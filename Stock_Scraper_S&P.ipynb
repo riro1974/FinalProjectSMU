{
 "cells": [
  {
   "cell_type": "code",
   "execution_count": 1,
   "metadata": {},
   "outputs": [],
   "source": [
    "from bs4 import BeautifulSoup\n",
    "import requests\n",
    "import xlsxwriter\n",
    "import csv\n",
    "import pandas as pd\n",
    "import os"
   ]
  },
  {
   "cell_type": "code",
   "execution_count": 2,
   "metadata": {},
   "outputs": [
    {
     "name": "stdout",
     "output_type": "stream",
     "text": [
      "[['AMD'], ['AMZN'], ['BHGE'], ['CHTR'], ['CRM'], ['EOG'], ['OXY'], ['SBAC'], ['VRTX']]\n"
     ]
    }
   ],
   "source": [
    "stocks_arr =[]\n",
    "stock_file= open(\"./Resources/stocks.csv\", 'r')\n",
    "\n",
    "for line in stock_file:\n",
    "    indv_stock_arr = line.strip().split(',')\n",
    "    stocks_arr.append(indv_stock_arr)\n",
    "\n",
    "print(stocks_arr)"
   ]
  },
  {
   "cell_type": "code",
   "execution_count": 3,
   "metadata": {},
   "outputs": [
    {
     "name": "stdout",
     "output_type": "stream",
     "text": [
      "['AMD']\n",
      "AMD\n",
      "https://finance.yahoo.com/quote/AMD/history?period1=1400216400&period2=1557982800&interval=1d&filter=history&frequency=1d\n",
      "['AMZN']\n",
      "AMZN\n",
      "https://finance.yahoo.com/quote/AMZN/history?period1=1400216400&period2=1557982800&interval=1d&filter=history&frequency=1d\n",
      "['BHGE']\n",
      "BHGE\n",
      "https://finance.yahoo.com/quote/BHGE/history?period1=1400216400&period2=1557982800&interval=1d&filter=history&frequency=1d\n",
      "['CHTR']\n",
      "CHTR\n",
      "https://finance.yahoo.com/quote/CHTR/history?period1=1400216400&period2=1557982800&interval=1d&filter=history&frequency=1d\n",
      "['CRM']\n",
      "CRM\n",
      "https://finance.yahoo.com/quote/CRM/history?period1=1400216400&period2=1557982800&interval=1d&filter=history&frequency=1d\n",
      "['EOG']\n",
      "EOG\n",
      "https://finance.yahoo.com/quote/EOG/history?period1=1400216400&period2=1557982800&interval=1d&filter=history&frequency=1d\n",
      "['OXY']\n",
      "OXY\n",
      "https://finance.yahoo.com/quote/OXY/history?period1=1400216400&period2=1557982800&interval=1d&filter=history&frequency=1d\n",
      "['SBAC']\n",
      "SBAC\n",
      "https://finance.yahoo.com/quote/SBAC/history?period1=1400216400&period2=1557982800&interval=1d&filter=history&frequency=1d\n",
      "['VRTX']\n",
      "VRTX\n",
      "https://finance.yahoo.com/quote/VRTX/history?period1=1400216400&period2=1557982800&interval=1d&filter=history&frequency=1d\n"
     ]
    }
   ],
   "source": [
    "stock_info_arr = []\n",
    "stock_info = []\n",
    "\n",
    "stock_cols = [\"Ticker\", \"Date\", \"Open\", \"High\", \"Low\", \"Close*\", \"adj Close\", \"Volume\"]\n",
    "\n",
    "stock_info.append(stock_cols)\n",
    "i = 0\n",
    "for stock in stocks_arr:\n",
    "    print(stock)\n",
    "    ticker = stock[0]\n",
    "    print(ticker)\n",
    "    url = \"https://finance.yahoo.com/quote/{0}/history?period1=1400216400&period2=1557982800&interval=1d&filter=history&frequency=1d\".format(ticker)\n",
    "    print(url)\n",
    "    response = requests.get(url)\n",
    "    \n",
    "    soup = BeautifulSoup(response.text, 'html.parser')\n",
    "    rows = soup.find_all(\"tr\", class_=\"BdT Bdc($c-fuji-grey-c) Ta(end) Fz(s) Whs(nw)\")\n",
    "    \n",
    "    for j in range(len(rows)):\n",
    "        tr = rows[j]['data-reactid']\n",
    "        dateid = int(tr) + 2\n",
    "        openid = int(tr) + 4\n",
    "        highid = int(tr) + 6\n",
    "        lowid = int(tr) + 8\n",
    "        closeid = int(tr) + 10\n",
    "        adjid = int(tr) + 12\n",
    "        volid = int(tr) + 14\n",
    "        date = soup.find(attrs={\"data-reactid\": dateid}).text\n",
    "        opend = soup.find(attrs={\"data-reactid\": openid}).text\n",
    "        high = soup.find(attrs={\"data-reactid\": highid}).text\n",
    "        low = soup.find(attrs={\"data-reactid\": lowid}).text\n",
    "        close = soup.find(attrs={\"data-reactid\": closeid}).text\n",
    "        adj = soup.find(attrs={\"data-reactid\": adjid}).text\n",
    "        vol = soup.find(attrs={\"data-reactid\": volid}).text\n",
    "        stock_attr = [ticker, date, opend, high, low, close, adj, vol]\n",
    "        stock_info.append(stock_attr)\n",
    "for i in range (len(stock_info)-1):\n",
    "    if stock_info[i][1] == 'Mail':\n",
    "        stock_info[i][1] = '16-May-19'\n",
    "\n",
    "stock_info_clean = [i for i in stock_info if (i[3] != 'Dividend')]"
   ]
  },
  {
   "cell_type": "code",
   "execution_count": 4,
   "metadata": {},
   "outputs": [],
   "source": [
    "df = pd.DataFrame(stock_info_clean)\n",
    "df.to_csv('Stocks_Data.csv', index=False, header=False)"
   ]
  },
  {
   "cell_type": "code",
   "execution_count": null,
   "metadata": {},
   "outputs": [],
   "source": []
  }
 ],
 "metadata": {
  "kernelspec": {
   "display_name": "Python 3",
   "language": "python",
   "name": "python3"
  },
  "language_info": {
   "codemirror_mode": {
    "name": "ipython",
    "version": 3
   },
   "file_extension": ".py",
   "mimetype": "text/x-python",
   "name": "python",
   "nbconvert_exporter": "python",
   "pygments_lexer": "ipython3",
   "version": "3.7.0"
  }
 },
 "nbformat": 4,
 "nbformat_minor": 2
}
