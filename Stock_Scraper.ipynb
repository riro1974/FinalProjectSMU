{
 "cells": [
  {
   "cell_type": "code",
   "execution_count": 40,
   "metadata": {},
   "outputs": [],
   "source": [
    "import os, sys\n",
    "import csv\n",
    "from bs4 import BeautifulSoup\n",
    "#import urllib2\n",
    "from urllib import request\n",
    "import xlsxwriter\n",
    "from selenium import webdriver"
   ]
  },
  {
   "cell_type": "code",
   "execution_count": 41,
   "metadata": {},
   "outputs": [
    {
     "ename": "NameError",
     "evalue": "name 'reload' is not defined",
     "output_type": "error",
     "traceback": [
      "\u001b[1;31m---------------------------------------------------------------------------\u001b[0m",
      "\u001b[1;31mNameError\u001b[0m                                 Traceback (most recent call last)",
      "\u001b[1;32m<ipython-input-41-fd94f40af0be>\u001b[0m in \u001b[0;36m<module>\u001b[1;34m()\u001b[0m\n\u001b[1;32m----> 1\u001b[1;33m \u001b[0mreload\u001b[0m\u001b[1;33m(\u001b[0m\u001b[0msys\u001b[0m\u001b[1;33m)\u001b[0m\u001b[1;33m\u001b[0m\u001b[0m\n\u001b[0m\u001b[0;32m      2\u001b[0m \u001b[0msys\u001b[0m\u001b[1;33m.\u001b[0m\u001b[0msetdefaultencoding\u001b[0m\u001b[1;33m(\u001b[0m\u001b[1;34m'utf8'\u001b[0m\u001b[1;33m)\u001b[0m\u001b[1;33m\u001b[0m\u001b[0m\n",
      "\u001b[1;31mNameError\u001b[0m: name 'reload' is not defined"
     ]
    }
   ],
   "source": [
    "reload(sys)\n",
    "sys.setdefaultencoding('utf8')"
   ]
  },
  {
   "cell_type": "code",
   "execution_count": 42,
   "metadata": {},
   "outputs": [],
   "source": [
    "key_stats_on_main = ['Market Cap','PE Ratio (TTM)','EPS (TTM)']\n",
    "key_stats_on_stat = ['Enterprise Value', 'Trailing P/E','Forward P/E','PEG Ratio (5 yr expected)']"
   ]
  },
  {
   "cell_type": "code",
   "execution_count": 44,
   "metadata": {},
   "outputs": [
    {
     "name": "stdout",
     "output_type": "stream",
     "text": [
      "[['MMM', ''], ['AOS', ''], ['ABT']]\n"
     ]
    },
    {
     "name": "stderr",
     "output_type": "stream",
     "text": [
      "C:\\Users\\tayeb\\Anaconda3\\lib\\site-packages\\ipykernel_launcher.py:16: DeprecationWarning: use options instead of chrome_options\n",
      "  app.launch_new_instance()\n"
     ]
    },
    {
     "name": "stdout",
     "output_type": "stream",
     "text": [
      "https://finance.yahoo.com/quoteMMM?p=MMM\n",
      "Invalid parent for this element\n",
      "Invalid parent for this element\n",
      "Invalid parent for this element\n",
      "Invalid parent for this element\n",
      "Invalid parent for this element\n",
      "Invalid parent for this element\n",
      "Invalid parent for this element\n",
      "Invalid parent for this element\n",
      "Invalid parent for this element\n",
      "Invalid parent for this element\n",
      "Invalid parent for this element\n",
      "https://finance.yahoo.com/quoteAOS?p=AOS\n",
      "Invalid parent for this element\n",
      "Invalid parent for this element\n",
      "Invalid parent for this element\n",
      "Invalid parent for this element\n",
      "Invalid parent for this element\n",
      "Invalid parent for this element\n",
      "Invalid parent for this element\n",
      "Invalid parent for this element\n",
      "Invalid parent for this element\n",
      "Invalid parent for this element\n",
      "Invalid parent for this element\n",
      "https://finance.yahoo.com/quoteABT?p=ABT\n",
      "Invalid parent for this element\n",
      "Invalid parent for this element\n",
      "Invalid parent for this element\n",
      "Invalid parent for this element\n",
      "Invalid parent for this element\n",
      "Invalid parent for this element\n",
      "Invalid parent for this element\n",
      "Invalid parent for this element\n",
      "Invalid parent for this element\n",
      "Invalid parent for this element\n",
      "Invalid parent for this element\n",
      "[['MMM', 'N/A', 'N/A', 'N/A', 'N/A', 'N/A', 'N/A', 'N/A', 'N/A', 'N/A', 'N/A', 'N/A'], ['AOS', 'N/A', 'N/A', 'N/A', 'N/A', 'N/A', 'N/A', 'N/A', 'N/A', 'N/A', 'N/A', 'N/A'], ['ABT', 'N/A', 'N/A', 'N/A', 'N/A', 'N/A', 'N/A', 'N/A', 'N/A', 'N/A', 'N/A', 'N/A']]\n",
      "Script completed\n"
     ]
    }
   ],
   "source": [
    "stocks_arr = []\n",
    "pfolio_file = open(\"stocks.csv\",\"r\")\n",
    "for line in pfolio_file:\n",
    "    indv_stock_arr = line.strip().split(',')\n",
    "    stocks_arr.append(indv_stock_arr)\n",
    "\n",
    "print(stocks_arr)\n",
    "\n",
    "#os.environ['NO_PROXY'] = '127.0.0.1'\n",
    "#browser = webdriver.PhantomJS(executable_path=r'C:\\phantomjs-2.1.1-windows\\bin\\phantomjs')\n",
    "\n",
    "# prepare the option for the chrome driver\n",
    "options = webdriver.ChromeOptions()\n",
    "options.add_argument('headless')\n",
    "# start chrome browser\n",
    "browser = webdriver.Chrome(chrome_options=options)\n",
    "\n",
    "\n",
    "stock_info_arr = []\n",
    "\n",
    "for stock in stocks_arr:\n",
    "    stock_info = []\n",
    "    ticker = stock[0]\n",
    "    stock_info.append(ticker)\n",
    "    \n",
    "    url = \"https://finance.yahoo.com/quote{0}?p={0}\".format(ticker)\n",
    "    #url = \"https://finance.yahoo.com/quote/%5{0}/history?p=%5{0}\".format(ticker)\n",
    "    url2 = \"https://finance.yahoo.com/quote/key-statistics?p={0}\".format(ticker)\n",
    "    \n",
    "    print(url)\n",
    "    browser.get(url)\n",
    "    innerHTML = browser.execute_script(\"return document.body.innerHTML\")\n",
    "    soup = BeautifulSoup(innerHTML, 'html.parser')\n",
    "    for stat in key_stats_on_main:\n",
    "        page_stat1 = soup.find(text=stat)\n",
    "        try:\n",
    "            page_row1 = page_stat1.find_parent('tr')\n",
    "            try:\n",
    "                page_statnum1 = page_row1.find_all('span')[1].contents[1]\n",
    "            except:\n",
    "                page_statnum1 = page_row1.find_all('td')[1].contents[0]\n",
    "        except:\n",
    "            print('Invalid parent for this element')\n",
    "            page_statnum1 = \"N/A\"\n",
    "        stock_info.append(page_statnum1)\n",
    "    \n",
    "    browser.get(url2)\n",
    "    innerHTML2 = browser.execute_script(\"return document.body.innerHTML\")\n",
    "    soup2 = BeautifulSoup(innerHTML2, 'html.parser')\n",
    "    for stat in key_stats_on_stat:\n",
    "        page_stat2 = soup2.find(text=stat)\n",
    "        try:\n",
    "            page_row1 = page_stat1.find_parent('tr')\n",
    "            try:\n",
    "                page_statnum2 = page_row2.find_all('span')[1].contents[1]\n",
    "            except:\n",
    "                page_statnum2 = page_row2.find_all('td')[1].contents[0]\n",
    "        except:\n",
    "            print('Invalid parent for this element')\n",
    "            page_statnum2 = \"N/A\"\n",
    "        stock_info.append(page_statnum2)\n",
    "        \n",
    "    stock_info_arr.append(stock_info)\n",
    "print(stock_info_arr)\n",
    "\n",
    "key_stats_on_main.extend(key_stats_on_stat)\n",
    "workbook = xlsxwriter.Workbook('Stocks01.xlsx')\n",
    "worksheet = workbook.add_worksheet()\n",
    "row = 0\n",
    "col = 1\n",
    "\n",
    "for stat in key_stats_on_main:\n",
    "    worksheet.write(row, col, stat)\n",
    "    col += 1\n",
    "    \n",
    "row = 1\n",
    "col = 0\n",
    "for our_stock in stock_info_arr:\n",
    "    col = 0\n",
    "    for info_bit in our_stock:\n",
    "        worksheet.write(row, col, info_bit)\n",
    "        col += 1\n",
    "    row += 1\n",
    "workbook.close()\n",
    "\n",
    "print('Script completed')\n",
    "\n",
    "    \n",
    "        \n",
    "        "
   ]
  }
 ],
 "metadata": {
  "kernelspec": {
   "display_name": "Python 3",
   "language": "python",
   "name": "python3"
  },
  "language_info": {
   "codemirror_mode": {
    "name": "ipython",
    "version": 3
   },
   "file_extension": ".py",
   "mimetype": "text/x-python",
   "name": "python",
   "nbconvert_exporter": "python",
   "pygments_lexer": "ipython3",
   "version": "3.7.0"
  }
 },
 "nbformat": 4,
 "nbformat_minor": 2
}
