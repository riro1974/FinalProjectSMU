{
 "cells": [
  {
   "cell_type": "code",
   "execution_count": 13,
   "metadata": {},
   "outputs": [],
   "source": [
    "# import stock_info module from yahoo_fin\n",
    "from yahoo_fin import stock_info as si\n",
    "import seaborn as sms"
   ]
  },
  {
   "cell_type": "code",
   "execution_count": 4,
   "metadata": {},
   "outputs": [
    {
     "data": {
      "text/plain": [
       "188.66000366210938"
      ]
     },
     "execution_count": 4,
     "metadata": {},
     "output_type": "execute_result"
    }
   ],
   "source": [
    "# get live price of Apple\n",
    "si.get_live_price(\"aapl\")"
   ]
  },
  {
   "cell_type": "code",
   "execution_count": 11,
   "metadata": {},
   "outputs": [
    {
     "data": {
      "text/html": [
       "<div>\n",
       "<style scoped>\n",
       "    .dataframe tbody tr th:only-of-type {\n",
       "        vertical-align: middle;\n",
       "    }\n",
       "\n",
       "    .dataframe tbody tr th {\n",
       "        vertical-align: top;\n",
       "    }\n",
       "\n",
       "    .dataframe thead th {\n",
       "        text-align: right;\n",
       "    }\n",
       "</style>\n",
       "<table border=\"1\" class=\"dataframe\">\n",
       "  <thead>\n",
       "    <tr style=\"text-align: right;\">\n",
       "      <th></th>\n",
       "      <th>attribute</th>\n",
       "      <th>value</th>\n",
       "    </tr>\n",
       "  </thead>\n",
       "  <tbody>\n",
       "    <tr>\n",
       "      <th>0</th>\n",
       "      <td>1y Target Est</td>\n",
       "      <td>216.17</td>\n",
       "    </tr>\n",
       "    <tr>\n",
       "      <th>1</th>\n",
       "      <td>52 Week Range</td>\n",
       "      <td>142.00 - 233.47</td>\n",
       "    </tr>\n",
       "    <tr>\n",
       "      <th>2</th>\n",
       "      <td>Ask</td>\n",
       "      <td>188.45 x 800</td>\n",
       "    </tr>\n",
       "    <tr>\n",
       "      <th>3</th>\n",
       "      <td>Avg. Volume</td>\n",
       "      <td>2.83374e+07</td>\n",
       "    </tr>\n",
       "    <tr>\n",
       "      <th>4</th>\n",
       "      <td>Beta (3Y Monthly)</td>\n",
       "      <td>0.89</td>\n",
       "    </tr>\n",
       "    <tr>\n",
       "      <th>5</th>\n",
       "      <td>Bid</td>\n",
       "      <td>188.90 x 800</td>\n",
       "    </tr>\n",
       "    <tr>\n",
       "      <th>6</th>\n",
       "      <td>Day's Range</td>\n",
       "      <td>185.43 - 189.70</td>\n",
       "    </tr>\n",
       "    <tr>\n",
       "      <th>7</th>\n",
       "      <td>EPS (TTM)</td>\n",
       "      <td>11.89</td>\n",
       "    </tr>\n",
       "    <tr>\n",
       "      <th>8</th>\n",
       "      <td>Earnings Date</td>\n",
       "      <td>Jul 29, 2019 - Aug 2, 2019</td>\n",
       "    </tr>\n",
       "    <tr>\n",
       "      <th>9</th>\n",
       "      <td>Ex-Dividend Date</td>\n",
       "      <td>2019-05-10</td>\n",
       "    </tr>\n",
       "    <tr>\n",
       "      <th>10</th>\n",
       "      <td>Forward Dividend &amp; Yield</td>\n",
       "      <td>2.92 (1.46%)</td>\n",
       "    </tr>\n",
       "    <tr>\n",
       "      <th>11</th>\n",
       "      <td>Market Cap</td>\n",
       "      <td>868.04B</td>\n",
       "    </tr>\n",
       "    <tr>\n",
       "      <th>12</th>\n",
       "      <td>Open</td>\n",
       "      <td>186.41</td>\n",
       "    </tr>\n",
       "    <tr>\n",
       "      <th>13</th>\n",
       "      <td>PE Ratio (TTM)</td>\n",
       "      <td>15.87</td>\n",
       "    </tr>\n",
       "    <tr>\n",
       "      <th>14</th>\n",
       "      <td>Previous Close</td>\n",
       "      <td>185.72</td>\n",
       "    </tr>\n",
       "    <tr>\n",
       "      <th>15</th>\n",
       "      <td>Quote Price</td>\n",
       "      <td>188.66</td>\n",
       "    </tr>\n",
       "    <tr>\n",
       "      <th>16</th>\n",
       "      <td>Volume</td>\n",
       "      <td>3.65297e+07</td>\n",
       "    </tr>\n",
       "  </tbody>\n",
       "</table>\n",
       "</div>"
      ],
      "text/plain": [
       "                   attribute                       value\n",
       "0              1y Target Est                      216.17\n",
       "1              52 Week Range             142.00 - 233.47\n",
       "2                        Ask                188.45 x 800\n",
       "3                Avg. Volume                 2.83374e+07\n",
       "4          Beta (3Y Monthly)                        0.89\n",
       "5                        Bid                188.90 x 800\n",
       "6                Day's Range             185.43 - 189.70\n",
       "7                  EPS (TTM)                       11.89\n",
       "8              Earnings Date  Jul 29, 2019 - Aug 2, 2019\n",
       "9           Ex-Dividend Date                  2019-05-10\n",
       "10  Forward Dividend & Yield                2.92 (1.46%)\n",
       "11                Market Cap                     868.04B\n",
       "12                      Open                      186.41\n",
       "13            PE Ratio (TTM)                       15.87\n",
       "14            Previous Close                      185.72\n",
       "15               Quote Price                      188.66\n",
       "16                    Volume                 3.65297e+07"
      ]
     },
     "execution_count": 11,
     "metadata": {},
     "output_type": "execute_result"
    }
   ],
   "source": [
    "# get quote table back as a data frame\n",
    "si.get_quote_table(\"aapl\", dict_result = False)"
   ]
  },
  {
   "cell_type": "code",
   "execution_count": 6,
   "metadata": {},
   "outputs": [
    {
     "data": {
      "text/plain": [
       "{'1y Target Est': 216.17,\n",
       " '52 Week Range': '142.00 - 233.47',\n",
       " 'Ask': '188.45 x 800',\n",
       " 'Avg. Volume': 28337390.0,\n",
       " 'Beta (3Y Monthly)': 0.89,\n",
       " 'Bid': '188.90 x 800',\n",
       " \"Day's Range\": '185.43 - 189.70',\n",
       " 'EPS (TTM)': 11.89,\n",
       " 'Earnings Date': 'Jul 29, 2019 - Aug 2, 2019',\n",
       " 'Ex-Dividend Date': '2019-05-10',\n",
       " 'Forward Dividend & Yield': '2.92 (1.46%)',\n",
       " 'Market Cap': '868.04B',\n",
       " 'Open': 186.41,\n",
       " 'PE Ratio (TTM)': 15.87,\n",
       " 'Previous Close': 185.72,\n",
       " 'Quote Price': 188.66000366210938,\n",
       " 'Volume': 36529677.0}"
      ]
     },
     "execution_count": 6,
     "metadata": {},
     "output_type": "execute_result"
    }
   ],
   "source": [
    "# or get it back as a dictionary (default)\n",
    "si.get_quote_table(\"aapl\")"
   ]
  }
 ],
 "metadata": {
  "kernelspec": {
   "display_name": "Python 3",
   "language": "python",
   "name": "python3"
  },
  "language_info": {
   "codemirror_mode": {
    "name": "ipython",
    "version": 3
   },
   "file_extension": ".py",
   "mimetype": "text/x-python",
   "name": "python",
   "nbconvert_exporter": "python",
   "pygments_lexer": "ipython3",
   "version": "3.6.7"
  }
 },
 "nbformat": 4,
 "nbformat_minor": 2
}
