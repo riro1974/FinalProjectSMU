{
 "cells": [
  {
   "cell_type": "code",
   "execution_count": 31,
   "metadata": {},
   "outputs": [],
   "source": [
    "# Dependencies\n",
    "import matplotlib.pyplot as plt\n",
    "import pandas as pd\n",
    "import numpy as np\n",
    "from sklearn.cluster import KMeans\n",
    "from sklearn import tree"
   ]
  },
  {
   "cell_type": "markdown",
   "metadata": {},
   "source": [
    "# S&P 500 Constituents Financial Data\n",
    "- https://datahub.io/core/s-and-p-500-companies-financials#resource-constituents-financials"
   ]
  },
  {
   "cell_type": "code",
   "execution_count": 32,
   "metadata": {
    "scrolled": true
   },
   "outputs": [
    {
     "data": {
      "text/html": [
       "<div>\n",
       "<style scoped>\n",
       "    .dataframe tbody tr th:only-of-type {\n",
       "        vertical-align: middle;\n",
       "    }\n",
       "\n",
       "    .dataframe tbody tr th {\n",
       "        vertical-align: top;\n",
       "    }\n",
       "\n",
       "    .dataframe thead th {\n",
       "        text-align: right;\n",
       "    }\n",
       "</style>\n",
       "<table border=\"1\" class=\"dataframe\">\n",
       "  <thead>\n",
       "    <tr style=\"text-align: right;\">\n",
       "      <th></th>\n",
       "      <th>Symbol</th>\n",
       "      <th>Name</th>\n",
       "      <th>Sector</th>\n",
       "      <th>Price</th>\n",
       "      <th>Price/Earnings</th>\n",
       "      <th>Dividend Yield</th>\n",
       "      <th>Earnings/Share</th>\n",
       "      <th>52 Week Low</th>\n",
       "      <th>52 Week High</th>\n",
       "      <th>Market Cap</th>\n",
       "      <th>EBITDA</th>\n",
       "      <th>Price/Sales</th>\n",
       "      <th>Price/Book</th>\n",
       "      <th>SEC Filings</th>\n",
       "    </tr>\n",
       "  </thead>\n",
       "  <tbody>\n",
       "    <tr>\n",
       "      <th>0</th>\n",
       "      <td>MMM</td>\n",
       "      <td>3M Company</td>\n",
       "      <td>Industrials</td>\n",
       "      <td>222.89</td>\n",
       "      <td>24.31</td>\n",
       "      <td>2.33</td>\n",
       "      <td>7.92</td>\n",
       "      <td>259.77</td>\n",
       "      <td>175.49</td>\n",
       "      <td>1.387211e+11</td>\n",
       "      <td>9.048000e+09</td>\n",
       "      <td>4.39</td>\n",
       "      <td>11.34</td>\n",
       "      <td>http://www.sec.gov/cgi-bin/browse-edgar?action...</td>\n",
       "    </tr>\n",
       "    <tr>\n",
       "      <th>1</th>\n",
       "      <td>AOS</td>\n",
       "      <td>A.O. Smith Corp</td>\n",
       "      <td>Industrials</td>\n",
       "      <td>60.24</td>\n",
       "      <td>27.76</td>\n",
       "      <td>1.15</td>\n",
       "      <td>1.70</td>\n",
       "      <td>68.39</td>\n",
       "      <td>48.93</td>\n",
       "      <td>1.078342e+10</td>\n",
       "      <td>6.010000e+08</td>\n",
       "      <td>3.58</td>\n",
       "      <td>6.35</td>\n",
       "      <td>http://www.sec.gov/cgi-bin/browse-edgar?action...</td>\n",
       "    </tr>\n",
       "    <tr>\n",
       "      <th>2</th>\n",
       "      <td>ABT</td>\n",
       "      <td>Abbott Laboratories</td>\n",
       "      <td>Health Care</td>\n",
       "      <td>56.27</td>\n",
       "      <td>22.51</td>\n",
       "      <td>1.91</td>\n",
       "      <td>0.26</td>\n",
       "      <td>64.60</td>\n",
       "      <td>42.28</td>\n",
       "      <td>1.021210e+11</td>\n",
       "      <td>5.744000e+09</td>\n",
       "      <td>3.74</td>\n",
       "      <td>3.19</td>\n",
       "      <td>http://www.sec.gov/cgi-bin/browse-edgar?action...</td>\n",
       "    </tr>\n",
       "    <tr>\n",
       "      <th>3</th>\n",
       "      <td>ABBV</td>\n",
       "      <td>AbbVie Inc.</td>\n",
       "      <td>Health Care</td>\n",
       "      <td>108.48</td>\n",
       "      <td>19.41</td>\n",
       "      <td>2.50</td>\n",
       "      <td>3.29</td>\n",
       "      <td>125.86</td>\n",
       "      <td>60.05</td>\n",
       "      <td>1.813863e+11</td>\n",
       "      <td>1.031000e+10</td>\n",
       "      <td>6.29</td>\n",
       "      <td>26.14</td>\n",
       "      <td>http://www.sec.gov/cgi-bin/browse-edgar?action...</td>\n",
       "    </tr>\n",
       "    <tr>\n",
       "      <th>4</th>\n",
       "      <td>ACN</td>\n",
       "      <td>Accenture plc</td>\n",
       "      <td>Information Technology</td>\n",
       "      <td>150.51</td>\n",
       "      <td>25.47</td>\n",
       "      <td>1.71</td>\n",
       "      <td>5.44</td>\n",
       "      <td>162.60</td>\n",
       "      <td>114.82</td>\n",
       "      <td>9.876586e+10</td>\n",
       "      <td>5.643228e+09</td>\n",
       "      <td>2.60</td>\n",
       "      <td>10.62</td>\n",
       "      <td>http://www.sec.gov/cgi-bin/browse-edgar?action...</td>\n",
       "    </tr>\n",
       "  </tbody>\n",
       "</table>\n",
       "</div>"
      ],
      "text/plain": [
       "  Symbol                 Name                  Sector   Price   \\\n",
       "0    MMM           3M Company             Industrials   222.89   \n",
       "1    AOS      A.O. Smith Corp             Industrials    60.24   \n",
       "2    ABT  Abbott Laboratories             Health Care    56.27   \n",
       "3   ABBV          AbbVie Inc.             Health Care   108.48   \n",
       "4    ACN        Accenture plc  Information Technology   150.51   \n",
       "\n",
       "   Price/Earnings  Dividend Yield   Earnings/Share    52 Week Low   \\\n",
       "0           24.31             2.33             7.92         259.77   \n",
       "1           27.76             1.15             1.70          68.39   \n",
       "2           22.51             1.91             0.26          64.60   \n",
       "3           19.41             2.50             3.29         125.86   \n",
       "4           25.47             1.71             5.44         162.60   \n",
       "\n",
       "    52 Week High    Market Cap         EBITDA  Price/Sales  Price/Book  \\\n",
       "0          175.49  1.387211e+11  9.048000e+09         4.39       11.34   \n",
       "1           48.93  1.078342e+10  6.010000e+08         3.58        6.35   \n",
       "2           42.28  1.021210e+11  5.744000e+09         3.74        3.19   \n",
       "3           60.05  1.813863e+11  1.031000e+10         6.29       26.14   \n",
       "4          114.82  9.876586e+10  5.643228e+09         2.60       10.62   \n",
       "\n",
       "                                         SEC Filings  \n",
       "0  http://www.sec.gov/cgi-bin/browse-edgar?action...  \n",
       "1  http://www.sec.gov/cgi-bin/browse-edgar?action...  \n",
       "2  http://www.sec.gov/cgi-bin/browse-edgar?action...  \n",
       "3  http://www.sec.gov/cgi-bin/browse-edgar?action...  \n",
       "4  http://www.sec.gov/cgi-bin/browse-edgar?action...  "
      ]
     },
     "execution_count": 32,
     "metadata": {},
     "output_type": "execute_result"
    }
   ],
   "source": [
    "# Load S%P 500 constituent data\n",
    "\n",
    "#spdata = pd.read_csv('C:/Users/Erik/Desktop/Workspace/final_project/Resources/constituents-financials_csv.csv')\n",
    "spdata = pd.read_csv('C:/Users/Erik/Desktop/Stock-Data-Clustering-for-Investment-Decisions/constituents-financials_csv.csv')\n",
    "spdata.head()\n"
   ]
  },
  {
   "cell_type": "code",
   "execution_count": 33,
   "metadata": {},
   "outputs": [
    {
     "data": {
      "text/html": [
       "<div>\n",
       "<style scoped>\n",
       "    .dataframe tbody tr th:only-of-type {\n",
       "        vertical-align: middle;\n",
       "    }\n",
       "\n",
       "    .dataframe tbody tr th {\n",
       "        vertical-align: top;\n",
       "    }\n",
       "\n",
       "    .dataframe thead th {\n",
       "        text-align: right;\n",
       "    }\n",
       "</style>\n",
       "<table border=\"1\" class=\"dataframe\">\n",
       "  <thead>\n",
       "    <tr style=\"text-align: right;\">\n",
       "      <th></th>\n",
       "      <th>Symbol</th>\n",
       "      <th>Name</th>\n",
       "      <th>Sector</th>\n",
       "      <th>Price</th>\n",
       "      <th>Price/Earnings</th>\n",
       "      <th>Dividend_Yield</th>\n",
       "      <th>Earnings/Share</th>\n",
       "      <th>52_Week_High</th>\n",
       "      <th>52_Week_Low</th>\n",
       "      <th>Market_Cap</th>\n",
       "      <th>EBITDA</th>\n",
       "      <th>Price/Sales</th>\n",
       "      <th>Price/Book</th>\n",
       "    </tr>\n",
       "  </thead>\n",
       "  <tbody>\n",
       "    <tr>\n",
       "      <th>0</th>\n",
       "      <td>MMM</td>\n",
       "      <td>3M Company</td>\n",
       "      <td>Industrials</td>\n",
       "      <td>222.89</td>\n",
       "      <td>24.31</td>\n",
       "      <td>2.33</td>\n",
       "      <td>7.92</td>\n",
       "      <td>259.77</td>\n",
       "      <td>175.49</td>\n",
       "      <td>1.387211e+11</td>\n",
       "      <td>9.048000e+09</td>\n",
       "      <td>4.39</td>\n",
       "      <td>11.34</td>\n",
       "    </tr>\n",
       "    <tr>\n",
       "      <th>1</th>\n",
       "      <td>AOS</td>\n",
       "      <td>A.O. Smith Corp</td>\n",
       "      <td>Industrials</td>\n",
       "      <td>60.24</td>\n",
       "      <td>27.76</td>\n",
       "      <td>1.15</td>\n",
       "      <td>1.70</td>\n",
       "      <td>68.39</td>\n",
       "      <td>48.93</td>\n",
       "      <td>1.078342e+10</td>\n",
       "      <td>6.010000e+08</td>\n",
       "      <td>3.58</td>\n",
       "      <td>6.35</td>\n",
       "    </tr>\n",
       "    <tr>\n",
       "      <th>2</th>\n",
       "      <td>ABT</td>\n",
       "      <td>Abbott Laboratories</td>\n",
       "      <td>Health Care</td>\n",
       "      <td>56.27</td>\n",
       "      <td>22.51</td>\n",
       "      <td>1.91</td>\n",
       "      <td>0.26</td>\n",
       "      <td>64.60</td>\n",
       "      <td>42.28</td>\n",
       "      <td>1.021210e+11</td>\n",
       "      <td>5.744000e+09</td>\n",
       "      <td>3.74</td>\n",
       "      <td>3.19</td>\n",
       "    </tr>\n",
       "    <tr>\n",
       "      <th>3</th>\n",
       "      <td>ABBV</td>\n",
       "      <td>AbbVie Inc.</td>\n",
       "      <td>Health Care</td>\n",
       "      <td>108.48</td>\n",
       "      <td>19.41</td>\n",
       "      <td>2.50</td>\n",
       "      <td>3.29</td>\n",
       "      <td>125.86</td>\n",
       "      <td>60.05</td>\n",
       "      <td>1.813863e+11</td>\n",
       "      <td>1.031000e+10</td>\n",
       "      <td>6.29</td>\n",
       "      <td>26.14</td>\n",
       "    </tr>\n",
       "    <tr>\n",
       "      <th>4</th>\n",
       "      <td>ACN</td>\n",
       "      <td>Accenture plc</td>\n",
       "      <td>Information Technology</td>\n",
       "      <td>150.51</td>\n",
       "      <td>25.47</td>\n",
       "      <td>1.71</td>\n",
       "      <td>5.44</td>\n",
       "      <td>162.60</td>\n",
       "      <td>114.82</td>\n",
       "      <td>9.876586e+10</td>\n",
       "      <td>5.643228e+09</td>\n",
       "      <td>2.60</td>\n",
       "      <td>10.62</td>\n",
       "    </tr>\n",
       "  </tbody>\n",
       "</table>\n",
       "</div>"
      ],
      "text/plain": [
       "  Symbol                 Name                  Sector   Price  Price/Earnings  \\\n",
       "0    MMM           3M Company             Industrials  222.89           24.31   \n",
       "1    AOS      A.O. Smith Corp             Industrials   60.24           27.76   \n",
       "2    ABT  Abbott Laboratories             Health Care   56.27           22.51   \n",
       "3   ABBV          AbbVie Inc.             Health Care  108.48           19.41   \n",
       "4    ACN        Accenture plc  Information Technology  150.51           25.47   \n",
       "\n",
       "   Dividend_Yield  Earnings/Share  52_Week_High  52_Week_Low    Market_Cap  \\\n",
       "0            2.33            7.92        259.77       175.49  1.387211e+11   \n",
       "1            1.15            1.70         68.39        48.93  1.078342e+10   \n",
       "2            1.91            0.26         64.60        42.28  1.021210e+11   \n",
       "3            2.50            3.29        125.86        60.05  1.813863e+11   \n",
       "4            1.71            5.44        162.60       114.82  9.876586e+10   \n",
       "\n",
       "         EBITDA  Price/Sales  Price/Book  \n",
       "0  9.048000e+09         4.39       11.34  \n",
       "1  6.010000e+08         3.58        6.35  \n",
       "2  5.744000e+09         3.74        3.19  \n",
       "3  1.031000e+10         6.29       26.14  \n",
       "4  5.643228e+09         2.60       10.62  "
      ]
     },
     "execution_count": 33,
     "metadata": {},
     "output_type": "execute_result"
    }
   ],
   "source": [
    "# Data Cleaning\n",
    "spdata.columns = ['Symbol', 'Name', 'Sector', 'Price', 'Price/Earnings', 'Dividend_Yield', 'Earnings/Share', \n",
    "                  '52_Week_High', '52_Week_Low', 'Market_Cap', 'EBITDA', 'Price/Sales', 'Price/Book', 'SEC_Filings']\n",
    "spdata = spdata.drop(columns=['SEC_Filings'])\n",
    "\n",
    "#Additional work can be done here to replace values in Lieu of dropping rows with missing data\n",
    "#This requires additional stock metrics such as \"Market Value per Share\n",
    "\n",
    "#spdata.count()\n",
    "spdata.dropna(inplace=True)\n",
    "\n",
    "spdata['Dividend_Yield'] = spdata['Dividend_Yield'].replace({' $-   ': '0'})\n",
    "spdata['Earnings/Share'] = spdata['Earnings/Share'].replace({' $-   ': '0'})\n",
    "\n",
    "#Check Dataframe Data Types\n",
    "#spdata.dtypes\n",
    "\n",
    "#Change dtypes for columns where replace functions were use\n",
    "spdata[[\"Dividend_Yield\", \"Earnings/Share\"]] = spdata[[\"Dividend_Yield\", \"Earnings/Share\"]].apply(pd.to_numeric)\n",
    "\n",
    "#spdata.dtypes\n",
    "#spdata.count()\n",
    "spdata.head()\n"
   ]
  },
  {
   "cell_type": "markdown",
   "metadata": {},
   "source": [
    "# Analysis 1: EBITDA vs. Market Capitalization\n",
    "\n",
    "### EBITDA\n",
    "- Earnings Before Interest, Taxes, Depreciation and Amortization\n",
    "- https://www.investopedia.com/terms/e/ebitda.asp\n",
    "\n",
    "### Market Capitalization\n",
    "- Total dollar market value of a company's outstanding shares\n",
    "- https://www.investopedia.com/terms/m/marketcapitalization.asp"
   ]
  },
  {
   "cell_type": "code",
   "execution_count": 34,
   "metadata": {},
   "outputs": [],
   "source": [
    "# Create Array of Samples \"X1\" for EBITDA vs. Market_Cap\n",
    "X1_df = spdata.loc[:, spdata.columns.intersection(['Market_Cap', 'EBITDA'])]\n",
    "X1_df.head()\n",
    "X1 = X1_df.values"
   ]
  },
  {
   "cell_type": "code",
   "execution_count": 35,
   "metadata": {},
   "outputs": [
    {
     "data": {
      "text/plain": [
       "KMeans(algorithm='auto', copy_x=True, init='k-means++', max_iter=300,\n",
       "    n_clusters=4, n_init=10, n_jobs=1, precompute_distances='auto',\n",
       "    random_state=None, tol=0.0001, verbose=0)"
      ]
     },
     "execution_count": 35,
     "metadata": {},
     "output_type": "execute_result"
    }
   ],
   "source": [
    "# Use n_clusters=4 as the k value\n",
    "kmeans = KMeans(n_clusters=4)\n",
    "\n",
    "# Fit the model to the data\n",
    "kmeans.fit(X1)"
   ]
  },
  {
   "cell_type": "code",
   "execution_count": 36,
   "metadata": {},
   "outputs": [],
   "source": [
    "# Predict the clusters\n",
    "predicted_clusters = kmeans.predict(X1)"
   ]
  },
  {
   "cell_type": "code",
   "execution_count": 37,
   "metadata": {},
   "outputs": [
    {
     "data": {
      "image/png": "[encoded data removed]",
      "text/plain": [
       "<Figure size 432x288 with 1 Axes>"
      ]
     },
     "metadata": {
      "needs_background": "light"
     },
     "output_type": "display_data"
    }
   ],
   "source": [
    "plt.scatter(X1[:, 0], X1[:, 1], c=predicted_clusters, s=50, cmap='viridis')\n",
    "plt.xlabel('Market Cap.')\n",
    "plt.ylabel('EBITDA')\n",
    "plt.grid(True)\n",
    "plt.show()"
   ]
  },
  {
   "cell_type": "markdown",
   "metadata": {},
   "source": [
    "# Analysis 2: Price/Earnings vs. Price/Book\n",
    "\n",
    "### Price/Earnings (P/E)\n",
    "- Higher values typically indicate that investors expect future growth.\n",
    "- Better when used to compare stocks within the same industry.\n",
    "- https://www.investopedia.com/terms/p/price-earningsratio.asp\n",
    "\n",
    "### Price/Book (P/B)\n",
    "- ratio of market value of a stock to its bookvalue\n",
    "- P/B < 1.0 is typically considered a good investment\n",
    "- P/B < 3.0 is typically used as a benchmark\n",
    "- https://www.investopedia.com/terms/p/price-to-bookratio.asp\n",
    "\n",
    "### The Cluster\n",
    "- Clusters with Low P/B and High P/E are considered good investments\n",
    "\n"
   ]
  },
  {
   "cell_type": "code",
   "execution_count": 38,
   "metadata": {},
   "outputs": [],
   "source": [
    "# Create Array of Samples \"X2\" for Price/Earnings vs. Price/Book\n",
    "X2_df = spdata.loc[:, spdata.columns.intersection(['Price/Book', 'Price/Earnings'])]\n",
    "X2 = X2_df.values"
   ]
  },
  {
   "cell_type": "code",
   "execution_count": 39,
   "metadata": {},
   "outputs": [
    {
     "data": {
      "text/plain": [
       "KMeans(algorithm='auto', copy_x=True, init='k-means++', max_iter=300,\n",
       "    n_clusters=5, n_init=10, n_jobs=1, precompute_distances='auto',\n",
       "    random_state=None, tol=0.0001, verbose=0)"
      ]
     },
     "execution_count": 39,
     "metadata": {},
     "output_type": "execute_result"
    }
   ],
   "source": [
    "# Use n_clusters=4 as the k value\n",
    "kmeans = KMeans(n_clusters=5)\n",
    "\n",
    "# Fit the model to the data\n",
    "kmeans.fit(X2)"
   ]
  },
  {
   "cell_type": "code",
   "execution_count": 40,
   "metadata": {},
   "outputs": [],
   "source": [
    "# Predict the clusters\n",
    "predicted_clusters = kmeans.predict(X2)"
   ]
  },
  {
   "cell_type": "code",
   "execution_count": 41,
   "metadata": {},
   "outputs": [
    {
     "data": {
      "image/png": "[encoded data removed]",
      "text/plain": [
       "<Figure size 432x288 with 1 Axes>"
      ]
     },
     "metadata": {
      "needs_background": "light"
     },
     "output_type": "display_data"
    }
   ],
   "source": [
    "plt.scatter(X2[:, 0], X2[:, 1], c=predicted_clusters, s=50, cmap='viridis')\n",
    "plt.xlabel('P/B')\n",
    "plt.ylabel('P/E')\n",
    "plt.grid(True)\n",
    "plt.axhline(y=3)\n",
    "plt.axhline(y=1)\n",
    "#plt.ylim(0, 5)\n",
    "\n",
    "plt.show()"
   ]
  },
  {
   "cell_type": "markdown",
   "metadata": {},
   "source": [
    "# Analysis 3: Price/Earnings vs. Price/Sales\n",
    "\n",
    "### Price/Earnings (P/E) \n",
    "- Higher values typically indicate that investors expect future growth\n",
    "- Better when used to compare stocks within the same industry\n",
    "- https://www.investopedia.com/terms/p/price-earningsratio.asp\n",
    "\n",
    "### Price/Share (P/S)\n",
    "- Indicates the market valuation of each dollar of a company's sales\n",
    "- The lower the P/S ratio, the more attractive the investment\n",
    "- https://www.investopedia.com/articles/fundamental/03/032603.asp\n",
    "\n",
    "### The Cluster\n",
    "- P/E will be plotted against P/S\n",
    "- The samples will be clustered to determine which stocks are viable investments based on this metric\n",
    "- The successful clustering will have a higher P/E indicating growth potential, and a low P/S ratio\n"
   ]
  },
  {
   "cell_type": "code",
   "execution_count": 42,
   "metadata": {},
   "outputs": [],
   "source": [
    "# Create Array of Samples \"X3\" for Price/Sales vs. Price/Earnings\n",
    "X3_df = spdata.loc[:, spdata.columns.intersection(['Price/Sales', 'Price/Earnings'])]\n",
    "X3_df.head()\n",
    "X3 = X3_df.values"
   ]
  },
  {
   "cell_type": "code",
   "execution_count": 43,
   "metadata": {},
   "outputs": [
    {
     "data": {
      "text/plain": [
       "KMeans(algorithm='auto', copy_x=True, init='k-means++', max_iter=300,\n",
       "    n_clusters=8, n_init=10, n_jobs=1, precompute_distances='auto',\n",
       "    random_state=None, tol=0.0001, verbose=0)"
      ]
     },
     "execution_count": 43,
     "metadata": {},
     "output_type": "execute_result"
    }
   ],
   "source": [
    "# Use n_clusters=4 as the k value\n",
    "kmeans = KMeans(n_clusters=8)\n",
    "\n",
    "# Fit the model to the data\n",
    "kmeans.fit(X3)"
   ]
  },
  {
   "cell_type": "code",
   "execution_count": 44,
   "metadata": {},
   "outputs": [],
   "source": [
    "# Predict the clusters\n",
    "predicted_clusters = kmeans.predict(X3)"
   ]
  },
  {
   "cell_type": "code",
   "execution_count": 45,
   "metadata": {},
   "outputs": [
    {
     "data": {
      "image/png": "[encoded data removed]",
      "text/plain": [
       "<Figure size 432x288 with 1 Axes>"
      ]
     },
     "metadata": {
      "needs_background": "light"
     },
     "output_type": "display_data"
    }
   ],
   "source": [
    "plt.scatter(X3[:, 0], X3[:, 1], c=predicted_clusters, s=50, cmap='viridis')\n",
    "plt.xlabel('P/E')\n",
    "plt.ylabel('P/S')\n",
    "plt.grid(True)\n",
    "plt.show()"
   ]
  },
  {
   "cell_type": "markdown",
   "metadata": {},
   "source": [
    "# Analysis 4: Earnings/Share vs. Price/Book  \n",
    "\n",
    "### Earnings/Share (EPS)\n",
    "- Indicator of a company's profitability\n",
    "- Metric used to describe how the market values each dollar of profit for a particular stock\n",
    "- https://www.investopedia.com/terms/e/eps.asp\n",
    "\n",
    "### Price/Book (P/B)\n",
    "- ratio of market value of a stock to its bookvalue\n",
    "- P/B < 1.0 is typically considered a good investment\n",
    "- P/B < 3.0 is typically used as a benchmark\n",
    "- https://www.investopedia.com/terms/p/price-to-bookratio.asp\n",
    "\n",
    "### The Cluster\n",
    "- EPS vs. P/B\n",
    "- Desired cluster: High EPS, P/B < 3.0\n",
    "\n"
   ]
  },
  {
   "cell_type": "code",
   "execution_count": 46,
   "metadata": {},
   "outputs": [],
   "source": [
    "# Create Array of Samples \"X4\" for Price/Book vs. Earnings/Share\n",
    "X4_df = spdata.loc[:, spdata.columns.intersection(['Price/Book', 'Earnings/Share'])]\n",
    "X4_df.head()\n",
    "X4 = X4_df.values"
   ]
  },
  {
   "cell_type": "code",
   "execution_count": 47,
   "metadata": {},
   "outputs": [
    {
     "data": {
      "text/plain": [
       "KMeans(algorithm='auto', copy_x=True, init='k-means++', max_iter=300,\n",
       "    n_clusters=5, n_init=10, n_jobs=1, precompute_distances='auto',\n",
       "    random_state=None, tol=0.0001, verbose=0)"
      ]
     },
     "execution_count": 47,
     "metadata": {},
     "output_type": "execute_result"
    }
   ],
   "source": [
    "# Use n_clusters=4 as the k value\n",
    "kmeans = KMeans(n_clusters=5)\n",
    "\n",
    "# Fit the model to the data\n",
    "kmeans.fit(X4)"
   ]
  },
  {
   "cell_type": "code",
   "execution_count": 48,
   "metadata": {},
   "outputs": [],
   "source": [
    "# Predict the clusters\n",
    "predicted_clusters = kmeans.predict(X4)"
   ]
  },
  {
   "cell_type": "code",
   "execution_count": 49,
   "metadata": {},
   "outputs": [
    {
     "data": {
      "image/png": "[encoded data removed]",
      "text/plain": [
       "<Figure size 432x288 with 1 Axes>"
      ]
     },
     "metadata": {
      "needs_background": "light"
     },
     "output_type": "display_data"
    }
   ],
   "source": [
    "plt.scatter(X4[:, 0], X4[:, 1], c=predicted_clusters, s=50, cmap='viridis')\n",
    "plt.xlabel('P/B')\n",
    "plt.ylabel('EPS')\n",
    "plt.axvline(x=1)\n",
    "plt.axvline(x=3)\n",
    "plt.grid(True)\n",
    "plt.show()"
   ]
  },
  {
   "cell_type": "code",
   "execution_count": 50,
   "metadata": {},
   "outputs": [
    {
     "data": {
      "image/png": "[encoded data removed]",
      "text/plain": [
       "<Figure size 432x288 with 1 Axes>"
      ]
     },
     "metadata": {
      "needs_background": "light"
     },
     "output_type": "display_data"
    }
   ],
   "source": [
    "plt.scatter(X4[:, 0], X4[:, 1], c=predicted_clusters, s=50, cmap='viridis')\n",
    "plt.xlabel('P/B')\n",
    "plt.ylabel('EPS')\n",
    "plt.xlim(0,10)\n",
    "plt.ylim(0,100)\n",
    "plt.axvline(x=1)\n",
    "plt.axvline(x=3)\n",
    "plt.grid(True)\n",
    "plt.show()"
   ]
  },
  {
   "cell_type": "markdown",
   "metadata": {},
   "source": [
    "# Analysis 5: Price/Earnings vs. Earnings/Share  \n",
    "\n",
    "### Price/Earnings (P/E) \n",
    "- Higher values typically indicate that investors expect future growth\n",
    "- Better when used to compare stocks within the same industry\n",
    "- https://www.investopedia.com/terms/p/price-earningsratio.asp\n",
    "\n",
    "### Earnings/Share (EPS)\n",
    "- Indicator of a company's profitability\n",
    "- Metric used to describe how the market values each dollar of profit for a particular stock\n",
    "- https://www.investopedia.com/terms/e/eps.asp\n",
    "\n",
    "\n",
    "### The Cluster\n",
    "- Desired cluster: High P/E, High EPS"
   ]
  },
  {
   "cell_type": "code",
   "execution_count": 59,
   "metadata": {},
   "outputs": [],
   "source": [
    "# Create Array of Samples \"X5\" for Price/Earnings vs. Earnings/Share\n",
    "X5_df = spdata.loc[:, spdata.columns.intersection(['Earnings/Share', 'Price/Earnings'])]\n",
    "X5_df.head()\n",
    "X5 = X5_df.values\n",
    "\n",
    "# Use n_clusters=4 as the k value\n",
    "kmeans = KMeans(n_clusters=10, n_init=50, max_iter=100000)\n",
    "\n",
    "# Fit the model to the data\n",
    "kmeans.fit(X5)\n",
    "\n",
    "# Predict the clusters\n",
    "predicted_clusters = kmeans.predict(X5)"
   ]
  },
  {
   "cell_type": "code",
   "execution_count": 60,
   "metadata": {},
   "outputs": [
    {
     "data": {
      "image/png": "[encoded data removed]",
      "text/plain": [
       "<Figure size 432x288 with 1 Axes>"
      ]
     },
     "metadata": {
      "needs_background": "light"
     },
     "output_type": "display_data"
    }
   ],
   "source": [
    "plt.scatter(X5[:, 0], X5[:, 1], c=predicted_clusters, s=50, cmap='viridis')\n",
    "plt.xlabel('EPS')\n",
    "plt.ylabel('P/E')\n",
    "plt.grid(True)\n",
    "plt.show()"
   ]
  },
  {
   "cell_type": "markdown",
   "metadata": {},
   "source": [
    "# Random Forest Classifier\n",
    "\n",
    "- A random forest decision tree is implemented to build a model for classification of stock buying decisions\n",
    "- P/B, P/E, EPS, P/S are used as inputs\n",
    "- The Buying Decision Determined from Kmeans clustering ( 1, Buy or 0, Don't Buy ) is used as the output for the supervised machine learning algorithm\n",
    "- A value of 1 or 0 is assigned based on an EPS < 3.0"
   ]
  },
  {
   "cell_type": "code",
   "execution_count": 61,
   "metadata": {},
   "outputs": [
    {
     "data": {
      "text/html": [
       "<div>\n",
       "<style scoped>\n",
       "    .dataframe tbody tr th:only-of-type {\n",
       "        vertical-align: middle;\n",
       "    }\n",
       "\n",
       "    .dataframe tbody tr th {\n",
       "        vertical-align: top;\n",
       "    }\n",
       "\n",
       "    .dataframe thead th {\n",
       "        text-align: right;\n",
       "    }\n",
       "</style>\n",
       "<table border=\"1\" class=\"dataframe\">\n",
       "  <thead>\n",
       "    <tr style=\"text-align: right;\">\n",
       "      <th></th>\n",
       "      <th>Symbol</th>\n",
       "      <th>Name</th>\n",
       "      <th>Sector</th>\n",
       "      <th>Price</th>\n",
       "      <th>Price/Earnings</th>\n",
       "      <th>Dividend_Yield</th>\n",
       "      <th>Earnings/Share</th>\n",
       "      <th>52_Week_High</th>\n",
       "      <th>52_Week_Low</th>\n",
       "      <th>Market_Cap</th>\n",
       "      <th>EBITDA</th>\n",
       "      <th>Price/Sales</th>\n",
       "      <th>Price/Book</th>\n",
       "      <th>Decision</th>\n",
       "    </tr>\n",
       "  </thead>\n",
       "  <tbody>\n",
       "    <tr>\n",
       "      <th>0</th>\n",
       "      <td>MMM</td>\n",
       "      <td>3M Company</td>\n",
       "      <td>Industrials</td>\n",
       "      <td>222.89</td>\n",
       "      <td>24.31</td>\n",
       "      <td>2.33</td>\n",
       "      <td>7.92</td>\n",
       "      <td>259.77</td>\n",
       "      <td>175.49</td>\n",
       "      <td>1.387211e+11</td>\n",
       "      <td>9.048000e+09</td>\n",
       "      <td>4.39</td>\n",
       "      <td>11.34</td>\n",
       "      <td>0</td>\n",
       "    </tr>\n",
       "    <tr>\n",
       "      <th>1</th>\n",
       "      <td>AOS</td>\n",
       "      <td>A.O. Smith Corp</td>\n",
       "      <td>Industrials</td>\n",
       "      <td>60.24</td>\n",
       "      <td>27.76</td>\n",
       "      <td>1.15</td>\n",
       "      <td>1.70</td>\n",
       "      <td>68.39</td>\n",
       "      <td>48.93</td>\n",
       "      <td>1.078342e+10</td>\n",
       "      <td>6.010000e+08</td>\n",
       "      <td>3.58</td>\n",
       "      <td>6.35</td>\n",
       "      <td>1</td>\n",
       "    </tr>\n",
       "    <tr>\n",
       "      <th>2</th>\n",
       "      <td>ABT</td>\n",
       "      <td>Abbott Laboratories</td>\n",
       "      <td>Health Care</td>\n",
       "      <td>56.27</td>\n",
       "      <td>22.51</td>\n",
       "      <td>1.91</td>\n",
       "      <td>0.26</td>\n",
       "      <td>64.60</td>\n",
       "      <td>42.28</td>\n",
       "      <td>1.021210e+11</td>\n",
       "      <td>5.744000e+09</td>\n",
       "      <td>3.74</td>\n",
       "      <td>3.19</td>\n",
       "      <td>1</td>\n",
       "    </tr>\n",
       "    <tr>\n",
       "      <th>3</th>\n",
       "      <td>ABBV</td>\n",
       "      <td>AbbVie Inc.</td>\n",
       "      <td>Health Care</td>\n",
       "      <td>108.48</td>\n",
       "      <td>19.41</td>\n",
       "      <td>2.50</td>\n",
       "      <td>3.29</td>\n",
       "      <td>125.86</td>\n",
       "      <td>60.05</td>\n",
       "      <td>1.813863e+11</td>\n",
       "      <td>1.031000e+10</td>\n",
       "      <td>6.29</td>\n",
       "      <td>26.14</td>\n",
       "      <td>0</td>\n",
       "    </tr>\n",
       "    <tr>\n",
       "      <th>4</th>\n",
       "      <td>ACN</td>\n",
       "      <td>Accenture plc</td>\n",
       "      <td>Information Technology</td>\n",
       "      <td>150.51</td>\n",
       "      <td>25.47</td>\n",
       "      <td>1.71</td>\n",
       "      <td>5.44</td>\n",
       "      <td>162.60</td>\n",
       "      <td>114.82</td>\n",
       "      <td>9.876586e+10</td>\n",
       "      <td>5.643228e+09</td>\n",
       "      <td>2.60</td>\n",
       "      <td>10.62</td>\n",
       "      <td>0</td>\n",
       "    </tr>\n",
       "    <tr>\n",
       "      <th>5</th>\n",
       "      <td>ATVI</td>\n",
       "      <td>Activision Blizzard</td>\n",
       "      <td>Information Technology</td>\n",
       "      <td>65.83</td>\n",
       "      <td>31.80</td>\n",
       "      <td>0.43</td>\n",
       "      <td>1.28</td>\n",
       "      <td>74.95</td>\n",
       "      <td>38.93</td>\n",
       "      <td>5.251867e+10</td>\n",
       "      <td>2.704000e+09</td>\n",
       "      <td>10.60</td>\n",
       "      <td>5.16</td>\n",
       "      <td>1</td>\n",
       "    </tr>\n",
       "    <tr>\n",
       "      <th>6</th>\n",
       "      <td>AYI</td>\n",
       "      <td>Acuity Brands Inc</td>\n",
       "      <td>Industrials</td>\n",
       "      <td>145.41</td>\n",
       "      <td>18.22</td>\n",
       "      <td>0.35</td>\n",
       "      <td>7.43</td>\n",
       "      <td>225.36</td>\n",
       "      <td>142.00</td>\n",
       "      <td>6.242378e+09</td>\n",
       "      <td>5.878000e+08</td>\n",
       "      <td>1.80</td>\n",
       "      <td>3.55</td>\n",
       "      <td>0</td>\n",
       "    </tr>\n",
       "    <tr>\n",
       "      <th>7</th>\n",
       "      <td>ADBE</td>\n",
       "      <td>Adobe Systems Inc</td>\n",
       "      <td>Information Technology</td>\n",
       "      <td>185.16</td>\n",
       "      <td>52.31</td>\n",
       "      <td>0.00</td>\n",
       "      <td>3.39</td>\n",
       "      <td>204.45</td>\n",
       "      <td>114.45</td>\n",
       "      <td>9.455021e+10</td>\n",
       "      <td>2.538040e+09</td>\n",
       "      <td>13.09</td>\n",
       "      <td>11.06</td>\n",
       "      <td>0</td>\n",
       "    </tr>\n",
       "    <tr>\n",
       "      <th>8</th>\n",
       "      <td>AAP</td>\n",
       "      <td>Advance Auto Parts</td>\n",
       "      <td>Consumer Discretionary</td>\n",
       "      <td>109.63</td>\n",
       "      <td>19.54</td>\n",
       "      <td>0.22</td>\n",
       "      <td>6.19</td>\n",
       "      <td>169.55</td>\n",
       "      <td>78.81</td>\n",
       "      <td>8.123612e+09</td>\n",
       "      <td>8.539410e+08</td>\n",
       "      <td>1.13</td>\n",
       "      <td>2.51</td>\n",
       "      <td>0</td>\n",
       "    </tr>\n",
       "    <tr>\n",
       "      <th>9</th>\n",
       "      <td>AMD</td>\n",
       "      <td>Advanced Micro Devices Inc</td>\n",
       "      <td>Information Technology</td>\n",
       "      <td>11.22</td>\n",
       "      <td>187.00</td>\n",
       "      <td>0.00</td>\n",
       "      <td>0.03</td>\n",
       "      <td>15.65</td>\n",
       "      <td>9.70</td>\n",
       "      <td>1.119166e+10</td>\n",
       "      <td>3.390000e+08</td>\n",
       "      <td>2.11</td>\n",
       "      <td>21.47</td>\n",
       "      <td>1</td>\n",
       "    </tr>\n",
       "  </tbody>\n",
       "</table>\n",
       "</div>"
      ],
      "text/plain": [
       "  Symbol                        Name                  Sector   Price  \\\n",
       "0    MMM                  3M Company             Industrials  222.89   \n",
       "1    AOS             A.O. Smith Corp             Industrials   60.24   \n",
       "2    ABT         Abbott Laboratories             Health Care   56.27   \n",
       "3   ABBV                 AbbVie Inc.             Health Care  108.48   \n",
       "4    ACN               Accenture plc  Information Technology  150.51   \n",
       "5   ATVI         Activision Blizzard  Information Technology   65.83   \n",
       "6    AYI           Acuity Brands Inc             Industrials  145.41   \n",
       "7   ADBE           Adobe Systems Inc  Information Technology  185.16   \n",
       "8    AAP          Advance Auto Parts  Consumer Discretionary  109.63   \n",
       "9    AMD  Advanced Micro Devices Inc  Information Technology   11.22   \n",
       "\n",
       "   Price/Earnings  Dividend_Yield  Earnings/Share  52_Week_High  52_Week_Low  \\\n",
       "0           24.31            2.33            7.92        259.77       175.49   \n",
       "1           27.76            1.15            1.70         68.39        48.93   \n",
       "2           22.51            1.91            0.26         64.60        42.28   \n",
       "3           19.41            2.50            3.29        125.86        60.05   \n",
       "4           25.47            1.71            5.44        162.60       114.82   \n",
       "5           31.80            0.43            1.28         74.95        38.93   \n",
       "6           18.22            0.35            7.43        225.36       142.00   \n",
       "7           52.31            0.00            3.39        204.45       114.45   \n",
       "8           19.54            0.22            6.19        169.55        78.81   \n",
       "9          187.00            0.00            0.03         15.65         9.70   \n",
       "\n",
       "     Market_Cap        EBITDA  Price/Sales  Price/Book  Decision  \n",
       "0  1.387211e+11  9.048000e+09         4.39       11.34         0  \n",
       "1  1.078342e+10  6.010000e+08         3.58        6.35         1  \n",
       "2  1.021210e+11  5.744000e+09         3.74        3.19         1  \n",
       "3  1.813863e+11  1.031000e+10         6.29       26.14         0  \n",
       "4  9.876586e+10  5.643228e+09         2.60       10.62         0  \n",
       "5  5.251867e+10  2.704000e+09        10.60        5.16         1  \n",
       "6  6.242378e+09  5.878000e+08         1.80        3.55         0  \n",
       "7  9.455021e+10  2.538040e+09        13.09       11.06         0  \n",
       "8  8.123612e+09  8.539410e+08         1.13        2.51         0  \n",
       "9  1.119166e+10  3.390000e+08         2.11       21.47         1  "
      ]
     },
     "execution_count": 61,
     "metadata": {},
     "output_type": "execute_result"
    }
   ],
   "source": [
    "decisions = [0, 1, 1, 0, 0, 1, 0, 0, 0, 1]\n",
    "\n",
    "spdata_decisions = spdata.head(10)\n",
    "spdata_decisions = spdata_decisions.assign(Decision = decisions)\n",
    "spdata_decisions"
   ]
  },
  {
   "cell_type": "code",
   "execution_count": 62,
   "metadata": {},
   "outputs": [
    {
     "data": {
      "text/html": [
       "<div>\n",
       "<style scoped>\n",
       "    .dataframe tbody tr th:only-of-type {\n",
       "        vertical-align: middle;\n",
       "    }\n",
       "\n",
       "    .dataframe tbody tr th {\n",
       "        vertical-align: top;\n",
       "    }\n",
       "\n",
       "    .dataframe thead th {\n",
       "        text-align: right;\n",
       "    }\n",
       "</style>\n",
       "<table border=\"1\" class=\"dataframe\">\n",
       "  <thead>\n",
       "    <tr style=\"text-align: right;\">\n",
       "      <th></th>\n",
       "      <th>Price</th>\n",
       "      <th>Price/Earnings</th>\n",
       "      <th>Dividend_Yield</th>\n",
       "      <th>Earnings/Share</th>\n",
       "      <th>52_Week_High</th>\n",
       "      <th>52_Week_Low</th>\n",
       "      <th>Market_Cap</th>\n",
       "      <th>EBITDA</th>\n",
       "      <th>Price/Sales</th>\n",
       "      <th>Price/Book</th>\n",
       "    </tr>\n",
       "  </thead>\n",
       "  <tbody>\n",
       "    <tr>\n",
       "      <th>0</th>\n",
       "      <td>222.89</td>\n",
       "      <td>24.31</td>\n",
       "      <td>2.33</td>\n",
       "      <td>7.92</td>\n",
       "      <td>259.77</td>\n",
       "      <td>175.49</td>\n",
       "      <td>1.387211e+11</td>\n",
       "      <td>9.048000e+09</td>\n",
       "      <td>4.39</td>\n",
       "      <td>11.34</td>\n",
       "    </tr>\n",
       "    <tr>\n",
       "      <th>1</th>\n",
       "      <td>60.24</td>\n",
       "      <td>27.76</td>\n",
       "      <td>1.15</td>\n",
       "      <td>1.70</td>\n",
       "      <td>68.39</td>\n",
       "      <td>48.93</td>\n",
       "      <td>1.078342e+10</td>\n",
       "      <td>6.010000e+08</td>\n",
       "      <td>3.58</td>\n",
       "      <td>6.35</td>\n",
       "    </tr>\n",
       "    <tr>\n",
       "      <th>2</th>\n",
       "      <td>56.27</td>\n",
       "      <td>22.51</td>\n",
       "      <td>1.91</td>\n",
       "      <td>0.26</td>\n",
       "      <td>64.60</td>\n",
       "      <td>42.28</td>\n",
       "      <td>1.021210e+11</td>\n",
       "      <td>5.744000e+09</td>\n",
       "      <td>3.74</td>\n",
       "      <td>3.19</td>\n",
       "    </tr>\n",
       "    <tr>\n",
       "      <th>3</th>\n",
       "      <td>108.48</td>\n",
       "      <td>19.41</td>\n",
       "      <td>2.50</td>\n",
       "      <td>3.29</td>\n",
       "      <td>125.86</td>\n",
       "      <td>60.05</td>\n",
       "      <td>1.813863e+11</td>\n",
       "      <td>1.031000e+10</td>\n",
       "      <td>6.29</td>\n",
       "      <td>26.14</td>\n",
       "    </tr>\n",
       "    <tr>\n",
       "      <th>4</th>\n",
       "      <td>150.51</td>\n",
       "      <td>25.47</td>\n",
       "      <td>1.71</td>\n",
       "      <td>5.44</td>\n",
       "      <td>162.60</td>\n",
       "      <td>114.82</td>\n",
       "      <td>9.876586e+10</td>\n",
       "      <td>5.643228e+09</td>\n",
       "      <td>2.60</td>\n",
       "      <td>10.62</td>\n",
       "    </tr>\n",
       "    <tr>\n",
       "      <th>5</th>\n",
       "      <td>65.83</td>\n",
       "      <td>31.80</td>\n",
       "      <td>0.43</td>\n",
       "      <td>1.28</td>\n",
       "      <td>74.95</td>\n",
       "      <td>38.93</td>\n",
       "      <td>5.251867e+10</td>\n",
       "      <td>2.704000e+09</td>\n",
       "      <td>10.60</td>\n",
       "      <td>5.16</td>\n",
       "    </tr>\n",
       "    <tr>\n",
       "      <th>6</th>\n",
       "      <td>145.41</td>\n",
       "      <td>18.22</td>\n",
       "      <td>0.35</td>\n",
       "      <td>7.43</td>\n",
       "      <td>225.36</td>\n",
       "      <td>142.00</td>\n",
       "      <td>6.242378e+09</td>\n",
       "      <td>5.878000e+08</td>\n",
       "      <td>1.80</td>\n",
       "      <td>3.55</td>\n",
       "    </tr>\n",
       "    <tr>\n",
       "      <th>7</th>\n",
       "      <td>185.16</td>\n",
       "      <td>52.31</td>\n",
       "      <td>0.00</td>\n",
       "      <td>3.39</td>\n",
       "      <td>204.45</td>\n",
       "      <td>114.45</td>\n",
       "      <td>9.455021e+10</td>\n",
       "      <td>2.538040e+09</td>\n",
       "      <td>13.09</td>\n",
       "      <td>11.06</td>\n",
       "    </tr>\n",
       "    <tr>\n",
       "      <th>8</th>\n",
       "      <td>109.63</td>\n",
       "      <td>19.54</td>\n",
       "      <td>0.22</td>\n",
       "      <td>6.19</td>\n",
       "      <td>169.55</td>\n",
       "      <td>78.81</td>\n",
       "      <td>8.123612e+09</td>\n",
       "      <td>8.539410e+08</td>\n",
       "      <td>1.13</td>\n",
       "      <td>2.51</td>\n",
       "    </tr>\n",
       "    <tr>\n",
       "      <th>9</th>\n",
       "      <td>11.22</td>\n",
       "      <td>187.00</td>\n",
       "      <td>0.00</td>\n",
       "      <td>0.03</td>\n",
       "      <td>15.65</td>\n",
       "      <td>9.70</td>\n",
       "      <td>1.119166e+10</td>\n",
       "      <td>3.390000e+08</td>\n",
       "      <td>2.11</td>\n",
       "      <td>21.47</td>\n",
       "    </tr>\n",
       "  </tbody>\n",
       "</table>\n",
       "</div>"
      ],
      "text/plain": [
       "    Price  Price/Earnings  Dividend_Yield  Earnings/Share  52_Week_High  \\\n",
       "0  222.89           24.31            2.33            7.92        259.77   \n",
       "1   60.24           27.76            1.15            1.70         68.39   \n",
       "2   56.27           22.51            1.91            0.26         64.60   \n",
       "3  108.48           19.41            2.50            3.29        125.86   \n",
       "4  150.51           25.47            1.71            5.44        162.60   \n",
       "5   65.83           31.80            0.43            1.28         74.95   \n",
       "6  145.41           18.22            0.35            7.43        225.36   \n",
       "7  185.16           52.31            0.00            3.39        204.45   \n",
       "8  109.63           19.54            0.22            6.19        169.55   \n",
       "9   11.22          187.00            0.00            0.03         15.65   \n",
       "\n",
       "   52_Week_Low    Market_Cap        EBITDA  Price/Sales  Price/Book  \n",
       "0       175.49  1.387211e+11  9.048000e+09         4.39       11.34  \n",
       "1        48.93  1.078342e+10  6.010000e+08         3.58        6.35  \n",
       "2        42.28  1.021210e+11  5.744000e+09         3.74        3.19  \n",
       "3        60.05  1.813863e+11  1.031000e+10         6.29       26.14  \n",
       "4       114.82  9.876586e+10  5.643228e+09         2.60       10.62  \n",
       "5        38.93  5.251867e+10  2.704000e+09        10.60        5.16  \n",
       "6       142.00  6.242378e+09  5.878000e+08         1.80        3.55  \n",
       "7       114.45  9.455021e+10  2.538040e+09        13.09       11.06  \n",
       "8        78.81  8.123612e+09  8.539410e+08         1.13        2.51  \n",
       "9         9.70  1.119166e+10  3.390000e+08         2.11       21.47  "
      ]
     },
     "execution_count": 62,
     "metadata": {},
     "output_type": "execute_result"
    }
   ],
   "source": [
    "spdata_test = spdata.head(10)\n",
    "spdata_test = spdata_test.drop([\"Symbol\", \"Name\", \"Sector\"], axis=1)\n",
    "\n",
    "feature_names = spdata_test.columns\n",
    "\n",
    "spdata_test"
   ]
  },
  {
   "cell_type": "code",
   "execution_count": 63,
   "metadata": {},
   "outputs": [],
   "source": [
    "target = spdata_decisions[\"Decision\"]\n",
    "target_names = [1, 0]"
   ]
  },
  {
   "cell_type": "code",
   "execution_count": 64,
   "metadata": {},
   "outputs": [],
   "source": [
    "from sklearn.model_selection import train_test_split\n",
    "X_train, X_test, y_train, y_test = train_test_split(spdata_test, target, random_state=42)"
   ]
  },
  {
   "cell_type": "code",
   "execution_count": 65,
   "metadata": {},
   "outputs": [
    {
     "data": {
      "text/plain": [
       "1.0"
      ]
     },
     "execution_count": 65,
     "metadata": {},
     "output_type": "execute_result"
    }
   ],
   "source": [
    "clf = tree.DecisionTreeClassifier()\n",
    "clf = clf.fit(X_train, y_train)\n",
    "clf.score(X_test, y_test)"
   ]
  },
  {
   "cell_type": "code",
   "execution_count": 66,
   "metadata": {},
   "outputs": [
    {
     "data": {
      "text/plain": [
       "1.0"
      ]
     },
     "execution_count": 66,
     "metadata": {},
     "output_type": "execute_result"
    }
   ],
   "source": [
    "from sklearn.ensemble import RandomForestClassifier\n",
    "rf = RandomForestClassifier(n_estimators=200)\n",
    "rf = rf.fit(X_train, y_train)\n",
    "rf.score(X_test, y_test)"
   ]
  },
  {
   "cell_type": "code",
   "execution_count": 29,
   "metadata": {},
   "outputs": [
    {
     "data": {
      "text/html": [
       "<div>\n",
       "<style scoped>\n",
       "    .dataframe tbody tr th:only-of-type {\n",
       "        vertical-align: middle;\n",
       "    }\n",
       "\n",
       "    .dataframe tbody tr th {\n",
       "        vertical-align: top;\n",
       "    }\n",
       "\n",
       "    .dataframe thead th {\n",
       "        text-align: right;\n",
       "    }\n",
       "</style>\n",
       "<table border=\"1\" class=\"dataframe\">\n",
       "  <thead>\n",
       "    <tr style=\"text-align: right;\">\n",
       "      <th></th>\n",
       "      <th>Weight</th>\n",
       "      <th>Stock Metric</th>\n",
       "    </tr>\n",
       "  </thead>\n",
       "  <tbody>\n",
       "    <tr>\n",
       "      <th>0</th>\n",
       "      <td>0.176417</td>\n",
       "      <td>Earnings/Share</td>\n",
       "    </tr>\n",
       "    <tr>\n",
       "      <th>1</th>\n",
       "      <td>0.162917</td>\n",
       "      <td>52_Week_High</td>\n",
       "    </tr>\n",
       "    <tr>\n",
       "      <th>2</th>\n",
       "      <td>0.162188</td>\n",
       "      <td>Price</td>\n",
       "    </tr>\n",
       "    <tr>\n",
       "      <th>3</th>\n",
       "      <td>0.157188</td>\n",
       "      <td>52_Week_Low</td>\n",
       "    </tr>\n",
       "    <tr>\n",
       "      <th>4</th>\n",
       "      <td>0.062083</td>\n",
       "      <td>EBITDA</td>\n",
       "    </tr>\n",
       "    <tr>\n",
       "      <th>5</th>\n",
       "      <td>0.044417</td>\n",
       "      <td>Price/Book</td>\n",
       "    </tr>\n",
       "    <tr>\n",
       "      <th>6</th>\n",
       "      <td>0.041208</td>\n",
       "      <td>Price/Earnings</td>\n",
       "    </tr>\n",
       "    <tr>\n",
       "      <th>7</th>\n",
       "      <td>0.031944</td>\n",
       "      <td>Price/Sales</td>\n",
       "    </tr>\n",
       "    <tr>\n",
       "      <th>8</th>\n",
       "      <td>0.018444</td>\n",
       "      <td>Market_Cap</td>\n",
       "    </tr>\n",
       "    <tr>\n",
       "      <th>9</th>\n",
       "      <td>0.008194</td>\n",
       "      <td>Dividend_Yield</td>\n",
       "    </tr>\n",
       "  </tbody>\n",
       "</table>\n",
       "</div>"
      ],
      "text/plain": [
       "     Weight    Stock Metric\n",
       "0  0.176417  Earnings/Share\n",
       "1  0.162917    52_Week_High\n",
       "2  0.162188           Price\n",
       "3  0.157188     52_Week_Low\n",
       "4  0.062083          EBITDA\n",
       "5  0.044417      Price/Book\n",
       "6  0.041208  Price/Earnings\n",
       "7  0.031944     Price/Sales\n",
       "8  0.018444      Market_Cap\n",
       "9  0.008194  Dividend_Yield"
      ]
     },
     "execution_count": 29,
     "metadata": {},
     "output_type": "execute_result"
    }
   ],
   "source": [
    "metric_weights = sorted(zip(rf.feature_importances_, feature_names), reverse=True)\n",
    "metric_weights_df = pd.DataFrame(metric_weights, columns=[\"Weight\", \"Stock Metric\"])\n",
    "metric_weights_df"
   ]
  },
  {
   "cell_type": "code",
   "execution_count": null,
   "metadata": {},
   "outputs": [],
   "source": []
  }
 ],
 "metadata": {
  "kernelspec": {
   "display_name": "Python 3",
   "language": "python",
   "name": "python3"
  },
  "language_info": {
   "codemirror_mode": {
    "name": "ipython",
    "version": 3
   },
   "file_extension": ".py",
   "mimetype": "text/x-python",
   "name": "python",
   "nbconvert_exporter": "python",
   "pygments_lexer": "ipython3",
   "version": "3.7.0"
  }
 },
 "nbformat": 4,
 "nbformat_minor": 2
}
