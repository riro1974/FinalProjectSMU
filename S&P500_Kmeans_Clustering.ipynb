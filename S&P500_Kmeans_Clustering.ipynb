{
 "cells": [
  {
   "cell_type": "code",
   "execution_count": 1,
   "metadata": {},
   "outputs": [],
   "source": [
    "# Dependencies\n",
    "import matplotlib.pyplot as plt\n",
    "import pandas as pd\n",
    "import numpy as np\n",
    "from sklearn.cluster import KMeans\n",
    "from sklearn import tree"
   ]
  },
  {
   "cell_type": "markdown",
   "metadata": {},
   "source": [
    "# S&P 500 Constituents Financial Data\n",
    "- https://datahub.io/core/s-and-p-500-companies-financials#resource-constituents-financials"
   ]
  },
  {
   "cell_type": "code",
   "execution_count": 2,
   "metadata": {
    "scrolled": true
   },
   "outputs": [
    {
     "data": {
      "text/html": [
       "<div>\n",
       "<style scoped>\n",
       "    .dataframe tbody tr th:only-of-type {\n",
       "        vertical-align: middle;\n",
       "    }\n",
       "\n",
       "    .dataframe tbody tr th {\n",
       "        vertical-align: top;\n",
       "    }\n",
       "\n",
       "    .dataframe thead th {\n",
       "        text-align: right;\n",
       "    }\n",
       "</style>\n",
       "<table border=\"1\" class=\"dataframe\">\n",
       "  <thead>\n",
       "    <tr style=\"text-align: right;\">\n",
       "      <th></th>\n",
       "      <th>Symbol</th>\n",
       "      <th>Name</th>\n",
       "      <th>Sector</th>\n",
       "      <th>Price</th>\n",
       "      <th>Price/Earnings</th>\n",
       "      <th>Dividend Yield</th>\n",
       "      <th>Earnings/Share</th>\n",
       "      <th>52 Week Low</th>\n",
       "      <th>52 Week High</th>\n",
       "      <th>Market Cap</th>\n",
       "      <th>EBITDA</th>\n",
       "      <th>Price/Sales</th>\n",
       "      <th>Price/Book</th>\n",
       "      <th>SEC Filings</th>\n",
       "    </tr>\n",
       "  </thead>\n",
       "  <tbody>\n",
       "    <tr>\n",
       "      <th>0</th>\n",
       "      <td>MMM</td>\n",
       "      <td>3M Company</td>\n",
       "      <td>Industrials</td>\n",
       "      <td>222.89</td>\n",
       "      <td>24.31</td>\n",
       "      <td>2.33</td>\n",
       "      <td>7.92</td>\n",
       "      <td>259.77</td>\n",
       "      <td>175.49</td>\n",
       "      <td>1.387211e+11</td>\n",
       "      <td>9.048000e+09</td>\n",
       "      <td>4.39</td>\n",
       "      <td>11.34</td>\n",
       "      <td>http://www.sec.gov/cgi-bin/browse-edgar?action...</td>\n",
       "    </tr>\n",
       "    <tr>\n",
       "      <th>1</th>\n",
       "      <td>AOS</td>\n",
       "      <td>A.O. Smith Corp</td>\n",
       "      <td>Industrials</td>\n",
       "      <td>60.24</td>\n",
       "      <td>27.76</td>\n",
       "      <td>1.15</td>\n",
       "      <td>1.70</td>\n",
       "      <td>68.39</td>\n",
       "      <td>48.93</td>\n",
       "      <td>1.078342e+10</td>\n",
       "      <td>6.010000e+08</td>\n",
       "      <td>3.58</td>\n",
       "      <td>6.35</td>\n",
       "      <td>http://www.sec.gov/cgi-bin/browse-edgar?action...</td>\n",
       "    </tr>\n",
       "    <tr>\n",
       "      <th>2</th>\n",
       "      <td>ABT</td>\n",
       "      <td>Abbott Laboratories</td>\n",
       "      <td>Health Care</td>\n",
       "      <td>56.27</td>\n",
       "      <td>22.51</td>\n",
       "      <td>1.91</td>\n",
       "      <td>0.26</td>\n",
       "      <td>64.60</td>\n",
       "      <td>42.28</td>\n",
       "      <td>1.021210e+11</td>\n",
       "      <td>5.744000e+09</td>\n",
       "      <td>3.74</td>\n",
       "      <td>3.19</td>\n",
       "      <td>http://www.sec.gov/cgi-bin/browse-edgar?action...</td>\n",
       "    </tr>\n",
       "    <tr>\n",
       "      <th>3</th>\n",
       "      <td>ABBV</td>\n",
       "      <td>AbbVie Inc.</td>\n",
       "      <td>Health Care</td>\n",
       "      <td>108.48</td>\n",
       "      <td>19.41</td>\n",
       "      <td>2.50</td>\n",
       "      <td>3.29</td>\n",
       "      <td>125.86</td>\n",
       "      <td>60.05</td>\n",
       "      <td>1.813863e+11</td>\n",
       "      <td>1.031000e+10</td>\n",
       "      <td>6.29</td>\n",
       "      <td>26.14</td>\n",
       "      <td>http://www.sec.gov/cgi-bin/browse-edgar?action...</td>\n",
       "    </tr>\n",
       "    <tr>\n",
       "      <th>4</th>\n",
       "      <td>ACN</td>\n",
       "      <td>Accenture plc</td>\n",
       "      <td>Information Technology</td>\n",
       "      <td>150.51</td>\n",
       "      <td>25.47</td>\n",
       "      <td>1.71</td>\n",
       "      <td>5.44</td>\n",
       "      <td>162.60</td>\n",
       "      <td>114.82</td>\n",
       "      <td>9.876586e+10</td>\n",
       "      <td>5.643228e+09</td>\n",
       "      <td>2.60</td>\n",
       "      <td>10.62</td>\n",
       "      <td>http://www.sec.gov/cgi-bin/browse-edgar?action...</td>\n",
       "    </tr>\n",
       "  </tbody>\n",
       "</table>\n",
       "</div>"
      ],
      "text/plain": [
       "  Symbol                 Name                  Sector   Price   \\\n",
       "0    MMM           3M Company             Industrials   222.89   \n",
       "1    AOS      A.O. Smith Corp             Industrials    60.24   \n",
       "2    ABT  Abbott Laboratories             Health Care    56.27   \n",
       "3   ABBV          AbbVie Inc.             Health Care   108.48   \n",
       "4    ACN        Accenture plc  Information Technology   150.51   \n",
       "\n",
       "   Price/Earnings  Dividend Yield   Earnings/Share    52 Week Low   \\\n",
       "0           24.31             2.33             7.92         259.77   \n",
       "1           27.76             1.15             1.70          68.39   \n",
       "2           22.51             1.91             0.26          64.60   \n",
       "3           19.41             2.50             3.29         125.86   \n",
       "4           25.47             1.71             5.44         162.60   \n",
       "\n",
       "    52 Week High    Market Cap         EBITDA  Price/Sales  Price/Book  \\\n",
       "0          175.49  1.387211e+11  9.048000e+09         4.39       11.34   \n",
       "1           48.93  1.078342e+10  6.010000e+08         3.58        6.35   \n",
       "2           42.28  1.021210e+11  5.744000e+09         3.74        3.19   \n",
       "3           60.05  1.813863e+11  1.031000e+10         6.29       26.14   \n",
       "4          114.82  9.876586e+10  5.643228e+09         2.60       10.62   \n",
       "\n",
       "                                         SEC Filings  \n",
       "0  http://www.sec.gov/cgi-bin/browse-edgar?action...  \n",
       "1  http://www.sec.gov/cgi-bin/browse-edgar?action...  \n",
       "2  http://www.sec.gov/cgi-bin/browse-edgar?action...  \n",
       "3  http://www.sec.gov/cgi-bin/browse-edgar?action...  \n",
       "4  http://www.sec.gov/cgi-bin/browse-edgar?action...  "
      ]
     },
     "execution_count": 2,
     "metadata": {},
     "output_type": "execute_result"
    }
   ],
   "source": [
    "# Load S%P 500 constituent data\n",
    "spdata = pd.read_csv('C:/Users/Erik/Desktop/Stock-Data-Clustering-for-Investment-Decisions/Resources/constituents-financials_csv.csv')\n",
    "\n",
    "spdata.head()"
   ]
  },
  {
   "cell_type": "code",
   "execution_count": 3,
   "metadata": {},
   "outputs": [
    {
     "data": {
      "text/html": [
       "<div>\n",
       "<style scoped>\n",
       "    .dataframe tbody tr th:only-of-type {\n",
       "        vertical-align: middle;\n",
       "    }\n",
       "\n",
       "    .dataframe tbody tr th {\n",
       "        vertical-align: top;\n",
       "    }\n",
       "\n",
       "    .dataframe thead th {\n",
       "        text-align: right;\n",
       "    }\n",
       "</style>\n",
       "<table border=\"1\" class=\"dataframe\">\n",
       "  <thead>\n",
       "    <tr style=\"text-align: right;\">\n",
       "      <th></th>\n",
       "      <th>Symbol</th>\n",
       "      <th>Name</th>\n",
       "      <th>Sector</th>\n",
       "      <th>Price</th>\n",
       "      <th>Price/Earnings</th>\n",
       "      <th>Dividend_Yield</th>\n",
       "      <th>Earnings/Share</th>\n",
       "      <th>52_Week_High</th>\n",
       "      <th>52_Week_Low</th>\n",
       "      <th>Market_Cap</th>\n",
       "      <th>EBITDA</th>\n",
       "      <th>Price/Sales</th>\n",
       "      <th>Price/Book</th>\n",
       "    </tr>\n",
       "  </thead>\n",
       "  <tbody>\n",
       "    <tr>\n",
       "      <th>0</th>\n",
       "      <td>MMM</td>\n",
       "      <td>3M Company</td>\n",
       "      <td>Industrials</td>\n",
       "      <td>222.89</td>\n",
       "      <td>24.31</td>\n",
       "      <td>2.33</td>\n",
       "      <td>7.92</td>\n",
       "      <td>259.77</td>\n",
       "      <td>175.49</td>\n",
       "      <td>1.387211e+11</td>\n",
       "      <td>9.048000e+09</td>\n",
       "      <td>4.39</td>\n",
       "      <td>11.34</td>\n",
       "    </tr>\n",
       "    <tr>\n",
       "      <th>1</th>\n",
       "      <td>AOS</td>\n",
       "      <td>A.O. Smith Corp</td>\n",
       "      <td>Industrials</td>\n",
       "      <td>60.24</td>\n",
       "      <td>27.76</td>\n",
       "      <td>1.15</td>\n",
       "      <td>1.70</td>\n",
       "      <td>68.39</td>\n",
       "      <td>48.93</td>\n",
       "      <td>1.078342e+10</td>\n",
       "      <td>6.010000e+08</td>\n",
       "      <td>3.58</td>\n",
       "      <td>6.35</td>\n",
       "    </tr>\n",
       "    <tr>\n",
       "      <th>2</th>\n",
       "      <td>ABT</td>\n",
       "      <td>Abbott Laboratories</td>\n",
       "      <td>Health Care</td>\n",
       "      <td>56.27</td>\n",
       "      <td>22.51</td>\n",
       "      <td>1.91</td>\n",
       "      <td>0.26</td>\n",
       "      <td>64.60</td>\n",
       "      <td>42.28</td>\n",
       "      <td>1.021210e+11</td>\n",
       "      <td>5.744000e+09</td>\n",
       "      <td>3.74</td>\n",
       "      <td>3.19</td>\n",
       "    </tr>\n",
       "    <tr>\n",
       "      <th>3</th>\n",
       "      <td>ABBV</td>\n",
       "      <td>AbbVie Inc.</td>\n",
       "      <td>Health Care</td>\n",
       "      <td>108.48</td>\n",
       "      <td>19.41</td>\n",
       "      <td>2.50</td>\n",
       "      <td>3.29</td>\n",
       "      <td>125.86</td>\n",
       "      <td>60.05</td>\n",
       "      <td>1.813863e+11</td>\n",
       "      <td>1.031000e+10</td>\n",
       "      <td>6.29</td>\n",
       "      <td>26.14</td>\n",
       "    </tr>\n",
       "    <tr>\n",
       "      <th>4</th>\n",
       "      <td>ACN</td>\n",
       "      <td>Accenture plc</td>\n",
       "      <td>Information Technology</td>\n",
       "      <td>150.51</td>\n",
       "      <td>25.47</td>\n",
       "      <td>1.71</td>\n",
       "      <td>5.44</td>\n",
       "      <td>162.60</td>\n",
       "      <td>114.82</td>\n",
       "      <td>9.876586e+10</td>\n",
       "      <td>5.643228e+09</td>\n",
       "      <td>2.60</td>\n",
       "      <td>10.62</td>\n",
       "    </tr>\n",
       "  </tbody>\n",
       "</table>\n",
       "</div>"
      ],
      "text/plain": [
       "  Symbol                 Name                  Sector   Price  Price/Earnings  \\\n",
       "0    MMM           3M Company             Industrials  222.89           24.31   \n",
       "1    AOS      A.O. Smith Corp             Industrials   60.24           27.76   \n",
       "2    ABT  Abbott Laboratories             Health Care   56.27           22.51   \n",
       "3   ABBV          AbbVie Inc.             Health Care  108.48           19.41   \n",
       "4    ACN        Accenture plc  Information Technology  150.51           25.47   \n",
       "\n",
       "   Dividend_Yield  Earnings/Share  52_Week_High  52_Week_Low    Market_Cap  \\\n",
       "0            2.33            7.92        259.77       175.49  1.387211e+11   \n",
       "1            1.15            1.70         68.39        48.93  1.078342e+10   \n",
       "2            1.91            0.26         64.60        42.28  1.021210e+11   \n",
       "3            2.50            3.29        125.86        60.05  1.813863e+11   \n",
       "4            1.71            5.44        162.60       114.82  9.876586e+10   \n",
       "\n",
       "         EBITDA  Price/Sales  Price/Book  \n",
       "0  9.048000e+09         4.39       11.34  \n",
       "1  6.010000e+08         3.58        6.35  \n",
       "2  5.744000e+09         3.74        3.19  \n",
       "3  1.031000e+10         6.29       26.14  \n",
       "4  5.643228e+09         2.60       10.62  "
      ]
     },
     "execution_count": 3,
     "metadata": {},
     "output_type": "execute_result"
    }
   ],
   "source": [
    "# Data Cleaning\n",
    "spdata.columns = ['Symbol', 'Name', 'Sector', 'Price', 'Price/Earnings', 'Dividend_Yield', 'Earnings/Share', \n",
    "                  '52_Week_High', '52_Week_Low', 'Market_Cap', 'EBITDA', 'Price/Sales', 'Price/Book', 'SEC_Filings']\n",
    "spdata = spdata.drop(columns=['SEC_Filings'])\n",
    "\n",
    "#spdata.count()\n",
    "spdata.dropna(inplace=True)\n",
    "\n",
    "spdata['Dividend_Yield'] = spdata['Dividend_Yield'].replace({' $-   ': '0'})\n",
    "spdata['Earnings/Share'] = spdata['Earnings/Share'].replace({' $-   ': '0'})\n",
    "\n",
    "#Check Dataframe Data Types\n",
    "#spdata.dtypes\n",
    "\n",
    "#Change dtypes for columns where replace functions were used\n",
    "spdata[[\"Dividend_Yield\", \"Earnings/Share\"]] = spdata[[\"Dividend_Yield\", \"Earnings/Share\"]].apply(pd.to_numeric)\n",
    "\n",
    "spdata.head()"
   ]
  },
  {
   "cell_type": "markdown",
   "metadata": {},
   "source": [
    "# Analysis 1: EBITDA vs. Market Capitalization\n",
    "\n",
    "### EBITDA\n",
    "- Earnings Before Interest, Taxes, Depreciation and Amortization\n",
    "- https://www.investopedia.com/terms/e/ebitda.asp\n",
    "\n",
    "### Market Capitalization\n",
    "- Total dollar market value of a company's outstanding shares\n",
    "- https://www.investopedia.com/terms/m/marketcapitalization.asp"
   ]
  },
  {
   "cell_type": "code",
   "execution_count": 4,
   "metadata": {},
   "outputs": [],
   "source": [
    "# Create Array of Samples \"X1\" for EBITDA vs. Market_Cap\n",
    "X1_df = spdata.loc[:, spdata.columns.intersection(['Market_Cap', 'EBITDA'])]\n",
    "X1_df.head()\n",
    "X1 = X1_df.values"
   ]
  },
  {
   "cell_type": "code",
   "execution_count": 5,
   "metadata": {},
   "outputs": [],
   "source": [
    "# Use n_clusters=4 as the k value\n",
    "kmeans = KMeans(n_clusters=4)\n",
    "\n",
    "# Fit the model to the data\n",
    "kmeans.fit(X1)\n",
    "\n",
    "# Predict the clusters\n",
    "predicted_clusters = kmeans.predict(X1)"
   ]
  },
  {
   "cell_type": "code",
   "execution_count": 6,
   "metadata": {},
   "outputs": [
    {
     "data": {
      "image/png": "[encoded data removed]",
      "text/plain": [
       "<Figure size 432x288 with 1 Axes>"
      ]
     },
     "metadata": {
      "needs_background": "light"
     },
     "output_type": "display_data"
    }
   ],
   "source": [
    "plt.scatter(X1[:, 0], X1[:, 1], c=predicted_clusters, s=50, cmap='viridis')\n",
    "plt.xlabel('Market Cap.')\n",
    "plt.ylabel('EBITDA')\n",
    "plt.grid(True)\n",
    "plt.show()"
   ]
  },
  {
   "cell_type": "markdown",
   "metadata": {},
   "source": [
    "# Analysis 2: Price/Earnings vs. Price/Book\n",
    "\n",
    "### Price/Earnings (P/E)\n",
    "- Higher values typically indicate that investors expect future growth.\n",
    "- Better when used to compare stocks within the same industry.\n",
    "- https://www.investopedia.com/terms/p/price-earningsratio.asp\n",
    "\n",
    "### Price/Book (P/B)\n",
    "- ratio of market value of a stock to its bookvalue\n",
    "- P/B < 1.0 is typically considered a good investment\n",
    "- P/B < 3.0 is typically used as a benchmark\n",
    "- https://www.investopedia.com/terms/p/price-to-bookratio.asp\n",
    "\n",
    "### The Cluster\n",
    "- Clusters with Low P/B and High P/E are considered good investments\n",
    "\n"
   ]
  },
  {
   "cell_type": "code",
   "execution_count": 7,
   "metadata": {},
   "outputs": [],
   "source": [
    "# Create Array of Samples \"X2\" for Price/Earnings vs. Price/Book\n",
    "X2_df = spdata.loc[:, spdata.columns.intersection(['Price/Book', 'Price/Earnings'])]\n",
    "X2 = X2_df.values"
   ]
  },
  {
   "cell_type": "code",
   "execution_count": 8,
   "metadata": {},
   "outputs": [],
   "source": [
    "# Use n_clusters=4 as the k value\n",
    "kmeans = KMeans(n_clusters=5)\n",
    "\n",
    "# Fit the model to the data\n",
    "kmeans.fit(X2)\n",
    "\n",
    "# Predict the clusters\n",
    "predicted_clusters = kmeans.predict(X2)"
   ]
  },
  {
   "cell_type": "code",
   "execution_count": 9,
   "metadata": {},
   "outputs": [
    {
     "data": {
      "image/png": "[encoded data removed]",
      "text/plain": [
       "<Figure size 432x288 with 1 Axes>"
      ]
     },
     "metadata": {
      "needs_background": "light"
     },
     "output_type": "display_data"
    }
   ],
   "source": [
    "plt.scatter(X2[:, 0], X2[:, 1], c=predicted_clusters, s=50, cmap='viridis')\n",
    "plt.xlabel('P/B')\n",
    "plt.ylabel('P/E')\n",
    "plt.grid(True)\n",
    "\n",
    "plt.show()"
   ]
  },
  {
   "cell_type": "markdown",
   "metadata": {},
   "source": [
    "# Analysis 3: Price/Earnings vs. Price/Sales\n",
    "\n",
    "### Price/Earnings (P/E) \n",
    "- Higher values typically indicate that investors expect future growth\n",
    "- Better when used to compare stocks within the same industry\n",
    "- https://www.investopedia.com/terms/p/price-earningsratio.asp\n",
    "\n",
    "### Price/Share (P/S)\n",
    "- Indicates the market valuation of each dollar of a company's sales\n",
    "- The lower the P/S ratio, the more attractive the investment\n",
    "- https://www.investopedia.com/articles/fundamental/03/032603.asp\n",
    "\n",
    "### The Cluster\n",
    "- P/E will be plotted against P/S\n",
    "- The samples will be clustered to determine which stocks are viable investments based on this metric\n",
    "- The successful clustering will have a higher P/E indicating growth potential, and a low P/S ratio\n"
   ]
  },
  {
   "cell_type": "code",
   "execution_count": 10,
   "metadata": {},
   "outputs": [],
   "source": [
    "# Create Array of Samples \"X3\" for Price/Sales vs. Price/Earnings\n",
    "X3_df = spdata.loc[:, spdata.columns.intersection(['Price/Sales', 'Price/Earnings'])]\n",
    "X3_df.head()\n",
    "X3 = X3_df.values"
   ]
  },
  {
   "cell_type": "code",
   "execution_count": 11,
   "metadata": {},
   "outputs": [],
   "source": [
    "# Use n_clusters=4 as the k value\n",
    "kmeans = KMeans(n_clusters=8)\n",
    "\n",
    "# Fit the model to the data\n",
    "kmeans.fit(X3)\n",
    "\n",
    "# Predict the clusters\n",
    "predicted_clusters = kmeans.predict(X3)"
   ]
  },
  {
   "cell_type": "code",
   "execution_count": 12,
   "metadata": {},
   "outputs": [
    {
     "data": {
      "image/png": "[encoded data removed]",
      "text/plain": [
       "<Figure size 432x288 with 1 Axes>"
      ]
     },
     "metadata": {
      "needs_background": "light"
     },
     "output_type": "display_data"
    }
   ],
   "source": [
    "plt.scatter(X3[:, 0], X3[:, 1], c=predicted_clusters, s=50, cmap='viridis')\n",
    "plt.xlabel('P/E')\n",
    "plt.ylabel('P/S')\n",
    "plt.grid(True)\n",
    "plt.show()"
   ]
  },
  {
   "cell_type": "markdown",
   "metadata": {},
   "source": [
    "# Analysis 4: Earnings/Share vs. Price/Book  \n",
    "\n",
    "### Earnings/Share (EPS)\n",
    "- Indicator of a company's profitability\n",
    "- Metric used to describe how the market values each dollar of profit for a particular stock\n",
    "- https://www.investopedia.com/terms/e/eps.asp\n",
    "\n",
    "### Price/Book (P/B)\n",
    "- ratio of market value of a stock to its bookvalue\n",
    "- P/B < 1.0 is typically considered a good investment\n",
    "- P/B < 3.0 is typically used as a benchmark\n",
    "- https://www.investopedia.com/terms/p/price-to-bookratio.asp\n",
    "\n",
    "### The Cluster\n",
    "- EPS vs. P/B\n",
    "- Desired cluster: High EPS, P/B < 3.0\n",
    "\n"
   ]
  },
  {
   "cell_type": "code",
   "execution_count": 13,
   "metadata": {},
   "outputs": [],
   "source": [
    "# Create Array of Samples \"X4\" for Price/Book vs. Earnings/Share\n",
    "X4_df = spdata.loc[:, spdata.columns.intersection(['Price/Book', 'Earnings/Share'])]\n",
    "X4_df.head()\n",
    "X4 = X4_df.values"
   ]
  },
  {
   "cell_type": "code",
   "execution_count": 14,
   "metadata": {},
   "outputs": [],
   "source": [
    "# Use n_clusters=4 as the k value\n",
    "kmeans = KMeans(n_clusters=5)\n",
    "\n",
    "# Fit the model to the data\n",
    "kmeans.fit(X4)\n",
    "\n",
    "# Predict the clusters\n",
    "predicted_clusters = kmeans.predict(X4)"
   ]
  },
  {
   "cell_type": "code",
   "execution_count": 15,
   "metadata": {},
   "outputs": [
    {
     "data": {
      "image/png": "[encoded data removed]",
      "text/plain": [
       "<Figure size 432x288 with 1 Axes>"
      ]
     },
     "metadata": {
      "needs_background": "light"
     },
     "output_type": "display_data"
    }
   ],
   "source": [
    "plt.scatter(X4[:, 0], X4[:, 1], c=predicted_clusters, s=50, cmap='viridis')\n",
    "plt.xlabel('P/B')\n",
    "plt.ylabel('EPS')\n",
    "plt.axvline(x=1)\n",
    "plt.axvline(x=3)\n",
    "plt.grid(True)\n",
    "plt.show()"
   ]
  },
  {
   "cell_type": "code",
   "execution_count": 16,
   "metadata": {},
   "outputs": [
    {
     "data": {
      "image/png": "[encoded data removed]",
      "text/plain": [
       "<Figure size 432x288 with 1 Axes>"
      ]
     },
     "metadata": {
      "needs_background": "light"
     },
     "output_type": "display_data"
    }
   ],
   "source": [
    "plt.scatter(X4[:, 0], X4[:, 1], c=predicted_clusters, s=50, cmap='viridis')\n",
    "plt.xlabel('P/B')\n",
    "plt.ylabel('EPS')\n",
    "plt.xlim(0,10)\n",
    "plt.ylim(0,100)\n",
    "plt.axvline(x=1)\n",
    "plt.axvline(x=3)\n",
    "plt.grid(True)\n",
    "plt.show()"
   ]
  },
  {
   "cell_type": "markdown",
   "metadata": {},
   "source": [
    "# Analysis 5: Price/Earnings vs. Earnings/Share  \n",
    "\n",
    "### Price/Earnings (P/E) \n",
    "- Higher values typically indicate that investors expect future growth\n",
    "- Better when used to compare stocks within the same industry\n",
    "- https://www.investopedia.com/terms/p/price-earningsratio.asp\n",
    "\n",
    "### Earnings/Share (EPS)\n",
    "- Indicator of a company's profitability\n",
    "- Metric used to describe how the market values each dollar of profit for a particular stock\n",
    "- https://www.investopedia.com/terms/e/eps.asp\n",
    "\n",
    "\n",
    "### The Cluster\n",
    "- Desired cluster: High P/E, High EPS"
   ]
  },
  {
   "cell_type": "code",
   "execution_count": 17,
   "metadata": {},
   "outputs": [],
   "source": [
    "# Create Array of Samples \"X5\" for Price/Earnings vs. Earnings/Share\n",
    "X5_df = spdata.loc[:, spdata.columns.intersection(['Earnings/Share', 'Price/Earnings'])]\n",
    "X5_df.head()\n",
    "X5 = X5_df.values\n",
    "\n",
    "# Use n_clusters=4 as the k value\n",
    "kmeans = KMeans(n_clusters=10, n_init=50, max_iter=100000)\n",
    "\n",
    "# Fit the model to the data\n",
    "kmeans.fit(X5)\n",
    "\n",
    "# Predict the clusters\n",
    "predicted_clusters = kmeans.predict(X5)"
   ]
  },
  {
   "cell_type": "code",
   "execution_count": 18,
   "metadata": {},
   "outputs": [
    {
     "data": {
      "image/png": "[encoded data removed]",
      "text/plain": [
       "<Figure size 432x288 with 1 Axes>"
      ]
     },
     "metadata": {
      "needs_background": "light"
     },
     "output_type": "display_data"
    }
   ],
   "source": [
    "plt.scatter(X5[:, 0], X5[:, 1], c=predicted_clusters, s=50, cmap='viridis')\n",
    "plt.xlabel('EPS')\n",
    "plt.ylabel('P/E')\n",
    "plt.grid(True)\n",
    "plt.show()"
   ]
  },
  {
   "cell_type": "markdown",
   "metadata": {},
   "source": [
    "# Tableau Visualizations\n",
    "\n",
    "https://public.tableau.com/profile/yahia4464#!/vizhome/SMUFINALPROJECT/Dashboard1\n"
   ]
  },
  {
   "cell_type": "markdown",
   "metadata": {},
   "source": [
    "# Random Forest Classifier\n",
    "\n",
    "- A random forest decision tree is implemented to build a model for classification of stock buying decisions\n",
    "- P/B, P/E, EPS, P/S are used as input features for the Random Forest Classifier\n",
    "\n",
    "### User Defined Decisions\n",
    "- A user defined function is used to determine stock classification\n",
    "- From the kmeans clustering, Price/Earnings (P/E)  and Earnings per Share (EPS) were selected for classification for the target output\n",
    "\n",
    "### Classifications\n",
    "\n",
    "- 1. Growth: P/E ≥ 150\n",
    "- 2. Low Profit: 0 < P/E < 150, 0 < EPS < 15 \n",
    "- 3. Profitable: 0 < P/E < 150, EPS ≥ 15\n",
    "- 4. Not Profitable: P/E < 0"
   ]
  },
  {
   "attachments": {
    "User_Defined_Functions.png": {
     "image/png": "[encoded data removed]"
    }
   },
   "cell_type": "markdown",
   "metadata": {},
   "source": [
    "![User_Defined_Functions.png](attachment:User_Defined_Functions.png)"
   ]
  },
  {
   "cell_type": "code",
   "execution_count": 19,
   "metadata": {},
   "outputs": [],
   "source": [
    "# Create an Array of Classifications for each stock based on P/E and EPS\n",
    "classifications = []\n",
    "\n",
    "for row in range(len(spdata)):\n",
    "    \n",
    "    a = spdata.iloc[row]['Price/Earnings']\n",
    "    b = spdata.iloc[row]['Earnings/Share']\n",
    "    \n",
    "    if a > 150:\n",
    "        classifications.append(\"Growth\")\n",
    "    elif (0 < a < 150) & (0 < b < 15):\n",
    "        classifications.append(\"Low_Profit\")\n",
    "    elif (b > 15):\n",
    "        classifications.append(\"Profitable\")\n",
    "    else:\n",
    "        classifications.append(\"Not_Profitable\")   "
   ]
  },
  {
   "cell_type": "code",
   "execution_count": 20,
   "metadata": {},
   "outputs": [
    {
     "data": {
      "text/html": [
       "<div>\n",
       "<style scoped>\n",
       "    .dataframe tbody tr th:only-of-type {\n",
       "        vertical-align: middle;\n",
       "    }\n",
       "\n",
       "    .dataframe tbody tr th {\n",
       "        vertical-align: top;\n",
       "    }\n",
       "\n",
       "    .dataframe thead th {\n",
       "        text-align: right;\n",
       "    }\n",
       "</style>\n",
       "<table border=\"1\" class=\"dataframe\">\n",
       "  <thead>\n",
       "    <tr style=\"text-align: right;\">\n",
       "      <th></th>\n",
       "      <th>Symbol</th>\n",
       "      <th>Name</th>\n",
       "      <th>Sector</th>\n",
       "      <th>Price</th>\n",
       "      <th>Price/Earnings</th>\n",
       "      <th>Dividend_Yield</th>\n",
       "      <th>Earnings/Share</th>\n",
       "      <th>52_Week_High</th>\n",
       "      <th>52_Week_Low</th>\n",
       "      <th>Market_Cap</th>\n",
       "      <th>EBITDA</th>\n",
       "      <th>Price/Sales</th>\n",
       "      <th>Price/Book</th>\n",
       "      <th>Classification</th>\n",
       "    </tr>\n",
       "  </thead>\n",
       "  <tbody>\n",
       "    <tr>\n",
       "      <th>0</th>\n",
       "      <td>MMM</td>\n",
       "      <td>3M Company</td>\n",
       "      <td>Industrials</td>\n",
       "      <td>222.89</td>\n",
       "      <td>24.31</td>\n",
       "      <td>2.33</td>\n",
       "      <td>7.92</td>\n",
       "      <td>259.77</td>\n",
       "      <td>175.49</td>\n",
       "      <td>1.387211e+11</td>\n",
       "      <td>9.048000e+09</td>\n",
       "      <td>4.39</td>\n",
       "      <td>11.34</td>\n",
       "      <td>Low_Profit</td>\n",
       "    </tr>\n",
       "    <tr>\n",
       "      <th>1</th>\n",
       "      <td>AOS</td>\n",
       "      <td>A.O. Smith Corp</td>\n",
       "      <td>Industrials</td>\n",
       "      <td>60.24</td>\n",
       "      <td>27.76</td>\n",
       "      <td>1.15</td>\n",
       "      <td>1.70</td>\n",
       "      <td>68.39</td>\n",
       "      <td>48.93</td>\n",
       "      <td>1.078342e+10</td>\n",
       "      <td>6.010000e+08</td>\n",
       "      <td>3.58</td>\n",
       "      <td>6.35</td>\n",
       "      <td>Low_Profit</td>\n",
       "    </tr>\n",
       "    <tr>\n",
       "      <th>2</th>\n",
       "      <td>ABT</td>\n",
       "      <td>Abbott Laboratories</td>\n",
       "      <td>Health Care</td>\n",
       "      <td>56.27</td>\n",
       "      <td>22.51</td>\n",
       "      <td>1.91</td>\n",
       "      <td>0.26</td>\n",
       "      <td>64.60</td>\n",
       "      <td>42.28</td>\n",
       "      <td>1.021210e+11</td>\n",
       "      <td>5.744000e+09</td>\n",
       "      <td>3.74</td>\n",
       "      <td>3.19</td>\n",
       "      <td>Low_Profit</td>\n",
       "    </tr>\n",
       "    <tr>\n",
       "      <th>3</th>\n",
       "      <td>ABBV</td>\n",
       "      <td>AbbVie Inc.</td>\n",
       "      <td>Health Care</td>\n",
       "      <td>108.48</td>\n",
       "      <td>19.41</td>\n",
       "      <td>2.50</td>\n",
       "      <td>3.29</td>\n",
       "      <td>125.86</td>\n",
       "      <td>60.05</td>\n",
       "      <td>1.813863e+11</td>\n",
       "      <td>1.031000e+10</td>\n",
       "      <td>6.29</td>\n",
       "      <td>26.14</td>\n",
       "      <td>Low_Profit</td>\n",
       "    </tr>\n",
       "    <tr>\n",
       "      <th>4</th>\n",
       "      <td>ACN</td>\n",
       "      <td>Accenture plc</td>\n",
       "      <td>Information Technology</td>\n",
       "      <td>150.51</td>\n",
       "      <td>25.47</td>\n",
       "      <td>1.71</td>\n",
       "      <td>5.44</td>\n",
       "      <td>162.60</td>\n",
       "      <td>114.82</td>\n",
       "      <td>9.876586e+10</td>\n",
       "      <td>5.643228e+09</td>\n",
       "      <td>2.60</td>\n",
       "      <td>10.62</td>\n",
       "      <td>Low_Profit</td>\n",
       "    </tr>\n",
       "  </tbody>\n",
       "</table>\n",
       "</div>"
      ],
      "text/plain": [
       "  Symbol                 Name                  Sector   Price  Price/Earnings  \\\n",
       "0    MMM           3M Company             Industrials  222.89           24.31   \n",
       "1    AOS      A.O. Smith Corp             Industrials   60.24           27.76   \n",
       "2    ABT  Abbott Laboratories             Health Care   56.27           22.51   \n",
       "3   ABBV          AbbVie Inc.             Health Care  108.48           19.41   \n",
       "4    ACN        Accenture plc  Information Technology  150.51           25.47   \n",
       "\n",
       "   Dividend_Yield  Earnings/Share  52_Week_High  52_Week_Low    Market_Cap  \\\n",
       "0            2.33            7.92        259.77       175.49  1.387211e+11   \n",
       "1            1.15            1.70         68.39        48.93  1.078342e+10   \n",
       "2            1.91            0.26         64.60        42.28  1.021210e+11   \n",
       "3            2.50            3.29        125.86        60.05  1.813863e+11   \n",
       "4            1.71            5.44        162.60       114.82  9.876586e+10   \n",
       "\n",
       "         EBITDA  Price/Sales  Price/Book Classification  \n",
       "0  9.048000e+09         4.39       11.34     Low_Profit  \n",
       "1  6.010000e+08         3.58        6.35     Low_Profit  \n",
       "2  5.744000e+09         3.74        3.19     Low_Profit  \n",
       "3  1.031000e+10         6.29       26.14     Low_Profit  \n",
       "4  5.643228e+09         2.60       10.62     Low_Profit  "
      ]
     },
     "execution_count": 20,
     "metadata": {},
     "output_type": "execute_result"
    }
   ],
   "source": [
    "# DataFrame with Classifications\n",
    "spdata_classified = spdata\n",
    "spdata_classified = spdata_classified.assign(Classification = classifications)\n",
    "\n",
    "spdata_classified.head()"
   ]
  },
  {
   "cell_type": "code",
   "execution_count": 21,
   "metadata": {},
   "outputs": [
    {
     "data": {
      "text/html": [
       "<div>\n",
       "<style scoped>\n",
       "    .dataframe tbody tr th:only-of-type {\n",
       "        vertical-align: middle;\n",
       "    }\n",
       "\n",
       "    .dataframe tbody tr th {\n",
       "        vertical-align: top;\n",
       "    }\n",
       "\n",
       "    .dataframe thead th {\n",
       "        text-align: right;\n",
       "    }\n",
       "</style>\n",
       "<table border=\"1\" class=\"dataframe\">\n",
       "  <thead>\n",
       "    <tr style=\"text-align: right;\">\n",
       "      <th></th>\n",
       "      <th>Price</th>\n",
       "      <th>Price/Earnings</th>\n",
       "      <th>Dividend_Yield</th>\n",
       "      <th>Earnings/Share</th>\n",
       "      <th>52_Week_High</th>\n",
       "      <th>52_Week_Low</th>\n",
       "      <th>Market_Cap</th>\n",
       "      <th>EBITDA</th>\n",
       "      <th>Price/Sales</th>\n",
       "      <th>Price/Book</th>\n",
       "    </tr>\n",
       "  </thead>\n",
       "  <tbody>\n",
       "    <tr>\n",
       "      <th>0</th>\n",
       "      <td>222.89</td>\n",
       "      <td>24.31</td>\n",
       "      <td>2.33</td>\n",
       "      <td>7.92</td>\n",
       "      <td>259.77</td>\n",
       "      <td>175.49</td>\n",
       "      <td>1.387211e+11</td>\n",
       "      <td>9.048000e+09</td>\n",
       "      <td>4.39</td>\n",
       "      <td>11.34</td>\n",
       "    </tr>\n",
       "    <tr>\n",
       "      <th>1</th>\n",
       "      <td>60.24</td>\n",
       "      <td>27.76</td>\n",
       "      <td>1.15</td>\n",
       "      <td>1.70</td>\n",
       "      <td>68.39</td>\n",
       "      <td>48.93</td>\n",
       "      <td>1.078342e+10</td>\n",
       "      <td>6.010000e+08</td>\n",
       "      <td>3.58</td>\n",
       "      <td>6.35</td>\n",
       "    </tr>\n",
       "    <tr>\n",
       "      <th>2</th>\n",
       "      <td>56.27</td>\n",
       "      <td>22.51</td>\n",
       "      <td>1.91</td>\n",
       "      <td>0.26</td>\n",
       "      <td>64.60</td>\n",
       "      <td>42.28</td>\n",
       "      <td>1.021210e+11</td>\n",
       "      <td>5.744000e+09</td>\n",
       "      <td>3.74</td>\n",
       "      <td>3.19</td>\n",
       "    </tr>\n",
       "    <tr>\n",
       "      <th>3</th>\n",
       "      <td>108.48</td>\n",
       "      <td>19.41</td>\n",
       "      <td>2.50</td>\n",
       "      <td>3.29</td>\n",
       "      <td>125.86</td>\n",
       "      <td>60.05</td>\n",
       "      <td>1.813863e+11</td>\n",
       "      <td>1.031000e+10</td>\n",
       "      <td>6.29</td>\n",
       "      <td>26.14</td>\n",
       "    </tr>\n",
       "    <tr>\n",
       "      <th>4</th>\n",
       "      <td>150.51</td>\n",
       "      <td>25.47</td>\n",
       "      <td>1.71</td>\n",
       "      <td>5.44</td>\n",
       "      <td>162.60</td>\n",
       "      <td>114.82</td>\n",
       "      <td>9.876586e+10</td>\n",
       "      <td>5.643228e+09</td>\n",
       "      <td>2.60</td>\n",
       "      <td>10.62</td>\n",
       "    </tr>\n",
       "  </tbody>\n",
       "</table>\n",
       "</div>"
      ],
      "text/plain": [
       "    Price  Price/Earnings  Dividend_Yield  Earnings/Share  52_Week_High  \\\n",
       "0  222.89           24.31            2.33            7.92        259.77   \n",
       "1   60.24           27.76            1.15            1.70         68.39   \n",
       "2   56.27           22.51            1.91            0.26         64.60   \n",
       "3  108.48           19.41            2.50            3.29        125.86   \n",
       "4  150.51           25.47            1.71            5.44        162.60   \n",
       "\n",
       "   52_Week_Low    Market_Cap        EBITDA  Price/Sales  Price/Book  \n",
       "0       175.49  1.387211e+11  9.048000e+09         4.39       11.34  \n",
       "1        48.93  1.078342e+10  6.010000e+08         3.58        6.35  \n",
       "2        42.28  1.021210e+11  5.744000e+09         3.74        3.19  \n",
       "3        60.05  1.813863e+11  1.031000e+10         6.29       26.14  \n",
       "4       114.82  9.876586e+10  5.643228e+09         2.60       10.62  "
      ]
     },
     "execution_count": 21,
     "metadata": {},
     "output_type": "execute_result"
    }
   ],
   "source": [
    "# Create DataFrame for Random Forest CLassification\n",
    "spdata_test = spdata\n",
    "spdata_test = spdata_test.drop([\"Symbol\", \"Name\", \"Sector\"], axis=1)\n",
    "\n",
    "feature_names = spdata_test.columns\n",
    "\n",
    "spdata_test.head()"
   ]
  },
  {
   "cell_type": "code",
   "execution_count": 22,
   "metadata": {},
   "outputs": [],
   "source": [
    "# Set Target Values for Stock Classification\n",
    "target = spdata_classified[\"Classification\"]\n",
    "target_names = [\"Growth\", \"Low_Profit\", \"Profitable\", \"Not_Profitable\"]"
   ]
  },
  {
   "cell_type": "code",
   "execution_count": 23,
   "metadata": {},
   "outputs": [
    {
     "name": "stderr",
     "output_type": "stream",
     "text": [
      "C:\\Users\\Erik\\anaconda\\Anaconda3\\lib\\site-packages\\sklearn\\ensemble\\weight_boosting.py:29: DeprecationWarning: numpy.core.umath_tests is an internal NumPy module and should not be imported. It will be removed in a future NumPy release.\n",
      "  from numpy.core.umath_tests import inner1d\n"
     ]
    },
    {
     "data": {
      "text/plain": [
       "0.9758064516129032"
      ]
     },
     "execution_count": 23,
     "metadata": {},
     "output_type": "execute_result"
    }
   ],
   "source": [
    "# Run and Test Random Forest Classifier\n",
    "from sklearn.model_selection import train_test_split\n",
    "X_train, X_test, y_train, y_test = train_test_split(spdata_test, target, random_state=42)\n",
    "\n",
    "from sklearn.ensemble import RandomForestClassifier\n",
    "rf = RandomForestClassifier(n_estimators=200)\n",
    "rf = rf.fit(X_train, y_train)\n",
    "rf.score(X_test, y_test)"
   ]
  },
  {
   "cell_type": "code",
   "execution_count": 24,
   "metadata": {},
   "outputs": [
    {
     "data": {
      "text/html": [
       "<div>\n",
       "<style scoped>\n",
       "    .dataframe tbody tr th:only-of-type {\n",
       "        vertical-align: middle;\n",
       "    }\n",
       "\n",
       "    .dataframe tbody tr th {\n",
       "        vertical-align: top;\n",
       "    }\n",
       "\n",
       "    .dataframe thead th {\n",
       "        text-align: right;\n",
       "    }\n",
       "</style>\n",
       "<table border=\"1\" class=\"dataframe\">\n",
       "  <thead>\n",
       "    <tr style=\"text-align: right;\">\n",
       "      <th></th>\n",
       "      <th>Weight</th>\n",
       "      <th>Stock Metric</th>\n",
       "    </tr>\n",
       "  </thead>\n",
       "  <tbody>\n",
       "    <tr>\n",
       "      <th>0</th>\n",
       "      <td>0.645171</td>\n",
       "      <td>Earnings/Share</td>\n",
       "    </tr>\n",
       "    <tr>\n",
       "      <th>1</th>\n",
       "      <td>0.135060</td>\n",
       "      <td>Price/Earnings</td>\n",
       "    </tr>\n",
       "    <tr>\n",
       "      <th>2</th>\n",
       "      <td>0.040415</td>\n",
       "      <td>52_Week_Low</td>\n",
       "    </tr>\n",
       "    <tr>\n",
       "      <th>3</th>\n",
       "      <td>0.037135</td>\n",
       "      <td>52_Week_High</td>\n",
       "    </tr>\n",
       "    <tr>\n",
       "      <th>4</th>\n",
       "      <td>0.034578</td>\n",
       "      <td>Price</td>\n",
       "    </tr>\n",
       "    <tr>\n",
       "      <th>5</th>\n",
       "      <td>0.033112</td>\n",
       "      <td>Price/Book</td>\n",
       "    </tr>\n",
       "    <tr>\n",
       "      <th>6</th>\n",
       "      <td>0.026482</td>\n",
       "      <td>EBITDA</td>\n",
       "    </tr>\n",
       "    <tr>\n",
       "      <th>7</th>\n",
       "      <td>0.025704</td>\n",
       "      <td>Price/Sales</td>\n",
       "    </tr>\n",
       "    <tr>\n",
       "      <th>8</th>\n",
       "      <td>0.012793</td>\n",
       "      <td>Market_Cap</td>\n",
       "    </tr>\n",
       "    <tr>\n",
       "      <th>9</th>\n",
       "      <td>0.009551</td>\n",
       "      <td>Dividend_Yield</td>\n",
       "    </tr>\n",
       "  </tbody>\n",
       "</table>\n",
       "</div>"
      ],
      "text/plain": [
       "     Weight    Stock Metric\n",
       "0  0.645171  Earnings/Share\n",
       "1  0.135060  Price/Earnings\n",
       "2  0.040415     52_Week_Low\n",
       "3  0.037135    52_Week_High\n",
       "4  0.034578           Price\n",
       "5  0.033112      Price/Book\n",
       "6  0.026482          EBITDA\n",
       "7  0.025704     Price/Sales\n",
       "8  0.012793      Market_Cap\n",
       "9  0.009551  Dividend_Yield"
      ]
     },
     "execution_count": 24,
     "metadata": {},
     "output_type": "execute_result"
    }
   ],
   "source": [
    "metric_weights = sorted(zip(rf.feature_importances_, feature_names), reverse=True)\n",
    "metric_weights_df = pd.DataFrame(metric_weights, columns=[\"Weight\", \"Stock Metric\"])\n",
    "metric_weights_df"
   ]
  }
 ],
 "metadata": {
  "kernelspec": {
   "display_name": "Python 3",
   "language": "python",
   "name": "python3"
  },
  "language_info": {
   "codemirror_mode": {
    "name": "ipython",
    "version": 3
   },
   "file_extension": ".py",
   "mimetype": "text/x-python",
   "name": "python",
   "nbconvert_exporter": "python",
   "pygments_lexer": "ipython3",
   "version": "3.7.0"
  }
 },
 "nbformat": 4,
 "nbformat_minor": 2
}
